{
 "cells": [
  {
   "cell_type": "markdown",
   "id": "rational-porcelain",
   "metadata": {},
   "source": [
    "# 4-7. 프로젝트: 멋진 작사가 만들기"
   ]
  },
  {
   "cell_type": "markdown",
   "id": "reserved-remainder",
   "metadata": {},
   "source": [
    "---"
   ]
  },
  {
   "cell_type": "markdown",
   "id": "nonprofit-curve",
   "metadata": {},
   "source": [
    "## Step 1. 데이터 다운로드"
   ]
  },
  {
   "cell_type": "markdown",
   "id": "interested-republican",
   "metadata": {},
   "source": [
    "[Song Lyrics](https://www.kaggle.com/paultimothymooney/poetry/data)에서 다운받을 수 있다."
   ]
  },
  {
   "cell_type": "markdown",
   "id": "continuing-rainbow",
   "metadata": {},
   "source": [
    "## Step 2. 데이터 읽어오기"
   ]
  },
  {
   "cell_type": "code",
   "execution_count": 1,
   "id": "controlled-logging",
   "metadata": {},
   "outputs": [],
   "source": [
    "import glob\n",
    "import os\n",
    "import re \n",
    "import numpy as np\n",
    "import tensorflow as tf\n",
    "from sklearn.model_selection import train_test_split\n",
    "\n",
    "# 필요한 모듈 불러오기"
   ]
  },
  {
   "cell_type": "code",
   "execution_count": 2,
   "id": "amended-profit",
   "metadata": {},
   "outputs": [
    {
     "name": "stdout",
     "output_type": "stream",
     "text": [
      "데이터 크기: 187088\n",
      "Examples:\n",
      " ['[Verse 1]', 'They come from everywhere', 'A longing to be free', 'They come to join us here', 'From sea to shining sea And they all have a dream']\n"
     ]
    }
   ],
   "source": [
    "txt_file_path = os.getenv('HOME')+'/aiffel/lyricist/data/lyrics/*'\n",
    "\n",
    "txt_list = glob.glob(txt_file_path)\n",
    "\n",
    "raw_corpus = []\n",
    "\n",
    "# 여러개의 txt 파일을 모두 읽어서 raw_corpus 에 담습니다.\n",
    "for txt_file in txt_list:\n",
    "    with open(txt_file, \"r\") as f:\n",
    "        raw = f.read().splitlines()\n",
    "        raw_corpus.extend(raw)\n",
    "\n",
    "print(\"데이터 크기:\", len(raw_corpus))\n",
    "print(\"Examples:\\n\", raw_corpus[:5])"
   ]
  },
  {
   "cell_type": "markdown",
   "id": "collected-reform",
   "metadata": {},
   "source": [
    "## Step 3. 데이터 정제"
   ]
  },
  {
   "cell_type": "code",
   "execution_count": 3,
   "id": "pediatric-universe",
   "metadata": {},
   "outputs": [],
   "source": [
    "# 정규표현식을 통한 문장정리\n",
    "# 입력된 문장을\n",
    "#     1. 소문자로 바꾸고, 양쪽 공백을 지웁니다\n",
    "#     2. 특수문자 양쪽에 공백을 넣고\n",
    "#     3. 여러개의 공백은 하나의 공백으로 바꿉니다\n",
    "#     4. a-zA-Z?.!,¿가 아닌 모든 문자를 하나의 공백으로 바꿉니다\n",
    "#     5. 다시 양쪽 공백을 지웁니다\n",
    "#     6. 문장 시작에는 <start>, 끝에는 <end>를 추가합니다\n",
    "\n",
    "def preprocess_sentence(sentence):\n",
    "    sentence = sentence.lower().strip() # 1\n",
    "    sentence = re.sub(r\"([?.!,¿])\", r\" \\1 \", sentence) # 2\n",
    "    sentence = re.sub(r'[\" \"]+', \" \", sentence) # 3\n",
    "    sentence = re.sub(r\"[^a-zA-Z?.!,¿]+\", \" \", sentence) # 4\n",
    "    sentence = sentence.strip() # 5\n",
    "    sentence = '<start> ' + sentence + ' <end>' # 6\n",
    "    return sentence"
   ]
  },
  {
   "cell_type": "code",
   "execution_count": 4,
   "id": "every-anxiety",
   "metadata": {
    "scrolled": true
   },
   "outputs": [
    {
     "data": {
      "text/plain": [
       "['<start> they come from everywhere <end>',\n",
       " '<start> a longing to be free <end>',\n",
       " '<start> they come to join us here <end>',\n",
       " '<start> from sea to shining sea and they all have a dream <end>',\n",
       " '<start> as people always will <end>',\n",
       " '<start> to be safe and warm <end>',\n",
       " '<start> in that shining city on the hill some wanna slam the door <end>',\n",
       " '<start> instead of opening the gate <end>',\n",
       " '<start> aw , let s turn this thing around <end>',\n",
       " '<start> it s up to me and you <end>']"
      ]
     },
     "execution_count": 4,
     "metadata": {},
     "output_type": "execute_result"
    }
   ],
   "source": [
    "# 여기에 정제된 문장을 모을겁니다\n",
    "corpus = []\n",
    "\n",
    "for sentence in raw_corpus:\n",
    "    if len(sentence) == 0: continue  # 길이가 0인 빈 문장은 건너뜁니다\n",
    "    if sentence[-1] == \"]\": continue # ']'로 끝나는 파트를 나눈 문장은 건너뜁니다\n",
    "    if sentence[-1] == \")\": continue # ')'로 끝나는 코러스 문장은 건너뜁니다    \n",
    "        \n",
    "    # 정제를 하고 담아주세요\n",
    "    preprocessed_sentence = preprocess_sentence(sentence)\n",
    "    corpus.append(preprocessed_sentence)\n",
    "        \n",
    "# 정제된 결과를 10개만 확인해보죠\n",
    "corpus[:10]"
   ]
  },
  {
   "cell_type": "code",
   "execution_count": 5,
   "id": "complicated-carol",
   "metadata": {
    "scrolled": false
   },
   "outputs": [
    {
     "name": "stdout",
     "output_type": "stream",
     "text": [
      "[[   2   42   71 ...    0    0    0]\n",
      " [   2    9 3391 ...    0    0    0]\n",
      " [   2   42   71 ...    0    0    0]\n",
      " ...\n",
      " [   2  557   20 ...    0    0    0]\n",
      " [   2  121   33 ...    0    0    0]\n",
      " [   2    5   22 ...    0    0    0]] <keras_preprocessing.text.Tokenizer object at 0x7f1ecf7325d0>\n"
     ]
    }
   ],
   "source": [
    "def tokenize(corpus):\n",
    "    tokenizer = tf.keras.preprocessing.text.Tokenizer(\n",
    "        num_words=12000, \n",
    "        filters=' ',\n",
    "        oov_token=\"<unk>\"\n",
    "    )\n",
    "    # corpus를 이용해 tokenizer 내부의 단어장을 완성합니다\n",
    "    tokenizer.fit_on_texts(corpus)\n",
    "    # 준비한 tokenizer를 이용해 corpus를 Tensor로 변환합니다\n",
    "    tensor = tokenizer.texts_to_sequences(corpus)   \n",
    "    # 입력 데이터의 시퀀스 길이를 일정하게 맞춰줍니다\n",
    "    # 만약 시퀀스가 짧다면 문장 뒤에 패딩을 붙여 길이를 맞춰줍니다.\n",
    "    # 문장 앞에 패딩을 붙여 길이를 맞추고 싶다면 padding='pre'를 사용합니다\n",
    "    # maxlen=15로 설정\n",
    "    tensor = tf.keras.preprocessing.sequence.pad_sequences(tensor, padding='post', maxlen=15)  \n",
    "    \n",
    "    print(tensor,tokenizer)\n",
    "    return tensor, tokenizer\n",
    "\n",
    "tensor, tokenizer = tokenize(corpus)"
   ]
  },
  {
   "cell_type": "code",
   "execution_count": 6,
   "id": "requested-peeing",
   "metadata": {},
   "outputs": [
    {
     "name": "stdout",
     "output_type": "stream",
     "text": [
      "1 : <unk>\n",
      "2 : <start>\n",
      "3 : <end>\n",
      "4 : ,\n",
      "5 : i\n",
      "6 : the\n",
      "7 : you\n",
      "8 : and\n",
      "9 : a\n",
      "10 : to\n"
     ]
    }
   ],
   "source": [
    "for idx in tokenizer.index_word:\n",
    "    print(idx, \":\", tokenizer.index_word[idx])  # 단어사전 내용 확인\n",
    "\n",
    "    if idx >= 10: break"
   ]
  },
  {
   "cell_type": "code",
   "execution_count": 7,
   "id": "basic-georgia",
   "metadata": {
    "scrolled": true
   },
   "outputs": [
    {
     "name": "stdout",
     "output_type": "stream",
     "text": [
      "[  2  42  71  72 790   3   0   0   0   0   0   0   0   0]\n",
      "[ 42  71  72 790   3   0   0   0   0   0   0   0   0   0]\n"
     ]
    }
   ],
   "source": [
    "# tensor에서 마지막 토큰을 잘라내서 소스 문장을 생성합니다\n",
    "# 마지막 토큰은 <end>가 아니라 <pad>일 가능성이 높습니다.\n",
    "src_input = tensor[:, :-1]  \n",
    "# tensor에서 <start>를 잘라내서 타겟 문장을 생성합니다.\n",
    "tgt_input = tensor[:, 1:]    \n",
    "\n",
    "print(src_input[0])\n",
    "print(tgt_input[0])"
   ]
  },
  {
   "cell_type": "markdown",
   "id": "apart-american",
   "metadata": {},
   "source": [
    "## Step 4. 평가 데이터셋 분리"
   ]
  },
  {
   "cell_type": "code",
   "execution_count": 8,
   "id": "funny-provider",
   "metadata": {
    "scrolled": false
   },
   "outputs": [
    {
     "name": "stdout",
     "output_type": "stream",
     "text": [
      "Source Train: (133342, 14)\n",
      "Target Train: (133342, 14)\n"
     ]
    }
   ],
   "source": [
    "enc_train, enc_val, dec_train, dec_val = train_test_split(src_input, \n",
    "                                                    tgt_input, \n",
    "                                                    test_size=0.2)\n",
    "\n",
    "print(\"Source Train:\", enc_train.shape)\n",
    "print(\"Target Train:\", dec_train.shape)"
   ]
  },
  {
   "cell_type": "code",
   "execution_count": 9,
   "id": "organized-wholesale",
   "metadata": {},
   "outputs": [
    {
     "data": {
      "text/plain": [
       "<BatchDataset shapes: ((256, 14), (256, 14)), types: (tf.int32, tf.int32)>"
      ]
     },
     "execution_count": 9,
     "metadata": {},
     "output_type": "execute_result"
    }
   ],
   "source": [
    "BUFFER_SIZE = len(src_input)\n",
    "BATCH_SIZE = 256\n",
    "steps_per_epoch = len(src_input) // BATCH_SIZE\n",
    "\n",
    " # tokenizer가 구축한 단어사전 내 12000개와, 여기 포함되지 않은 0:<pad>를 포함하여 12001개\n",
    "VOCAB_SIZE = tokenizer.num_words + 1   \n",
    "\n",
    "# 준비한 데이터 소스로부터 데이터셋을 만듭니다\n",
    "dataset = tf.data.Dataset.from_tensor_slices((src_input, tgt_input))\n",
    "dataset = dataset.shuffle(BUFFER_SIZE)\n",
    "dataset = dataset.batch(BATCH_SIZE, drop_remainder=True)\n",
    "dataset"
   ]
  },
  {
   "cell_type": "markdown",
   "id": "geographic-arlington",
   "metadata": {},
   "source": [
    "## Step 5. 인공지능 만들기"
   ]
  },
  {
   "cell_type": "code",
   "execution_count": 10,
   "id": "quarterly-upgrade",
   "metadata": {
    "scrolled": true
   },
   "outputs": [],
   "source": [
    "class TextGenerator(tf.keras.Model):\n",
    "    def __init__(self, vocab_size, embedding_size, hidden_size):\n",
    "        super().__init__()\n",
    "        \n",
    "        self.embedding = tf.keras.layers.Embedding(vocab_size, embedding_size)\n",
    "        self.rnn_1 = tf.keras.layers.LSTM(hidden_size, return_sequences=True)\n",
    "        self.rnn_2 = tf.keras.layers.LSTM(hidden_size, return_sequences=True)\n",
    "        self.linear = tf.keras.layers.Dense(vocab_size)\n",
    "        \n",
    "    def call(self, x):\n",
    "        out = self.embedding(x)\n",
    "        out = self.rnn_1(out)\n",
    "        out = self.rnn_2(out)\n",
    "        out = self.linear(out)\n",
    "        \n",
    "        return out\n",
    "    \n",
    "embedding_size = 1024\n",
    "hidden_size = 4096\n",
    "model = TextGenerator(tokenizer.num_words + 1, embedding_size , hidden_size)"
   ]
  },
  {
   "cell_type": "code",
   "execution_count": 11,
   "id": "knowing-representation",
   "metadata": {},
   "outputs": [
    {
     "data": {
      "text/plain": [
       "<tf.Tensor: shape=(256, 14, 12001), dtype=float32, numpy=\n",
       "array([[[-1.6259715e-04,  1.5333512e-04,  5.8808125e-04, ...,\n",
       "          3.1664100e-04,  4.6281271e-05,  1.3006509e-04],\n",
       "        [-2.7198318e-04,  2.5143757e-04,  8.9717534e-04, ...,\n",
       "          3.6795135e-04, -1.7344527e-04, -1.5385922e-04],\n",
       "        [-7.4319847e-05,  5.3340843e-04,  1.5906260e-03, ...,\n",
       "          8.5882784e-05, -4.0709937e-04, -3.8016125e-04],\n",
       "        ...,\n",
       "        [-2.1036714e-03, -3.2223170e-03,  3.2836576e-03, ...,\n",
       "         -2.5081239e-03, -9.0050098e-04, -2.7710190e-05],\n",
       "        [-2.4442265e-03, -3.7757859e-03,  3.6823251e-03, ...,\n",
       "         -3.0737608e-03, -1.3545586e-03, -3.8213006e-04],\n",
       "        [-2.7399117e-03, -4.2523094e-03,  4.0362934e-03, ...,\n",
       "         -3.5687408e-03, -1.8201264e-03, -7.1501598e-04]],\n",
       "\n",
       "       [[-1.6259715e-04,  1.5333512e-04,  5.8808125e-04, ...,\n",
       "          3.1664100e-04,  4.6281271e-05,  1.3006509e-04],\n",
       "        [ 3.1244615e-04,  1.5779736e-04,  3.2344091e-04, ...,\n",
       "          6.6679151e-04,  8.9157751e-05,  4.8943481e-04],\n",
       "        [ 5.1281374e-04,  4.8620193e-04, -3.3552526e-04, ...,\n",
       "          6.9135305e-04, -1.8089009e-05,  3.9264408e-04],\n",
       "        ...,\n",
       "        [ 7.1199948e-04, -7.3440449e-04,  6.2462949e-04, ...,\n",
       "          1.1577010e-03, -1.5540535e-04,  1.2892206e-03],\n",
       "        [ 5.3236831e-04, -8.6338533e-04,  1.2192263e-03, ...,\n",
       "          7.8799651e-04, -3.6003129e-04,  1.4622809e-03],\n",
       "        [ 1.2424860e-04, -1.2405541e-03,  1.8692273e-03, ...,\n",
       "          1.4055541e-04, -6.0710928e-04,  1.3198265e-03]],\n",
       "\n",
       "       [[-1.6259715e-04,  1.5333512e-04,  5.8808125e-04, ...,\n",
       "          3.1664100e-04,  4.6281271e-05,  1.3006509e-04],\n",
       "        [ 1.3651825e-04,  2.5152476e-04,  9.7749825e-04, ...,\n",
       "         -5.2116273e-05,  3.1565031e-04,  3.3534551e-04],\n",
       "        [ 3.2709163e-04,  7.6916249e-04,  1.2327813e-03, ...,\n",
       "         -5.7973806e-04,  9.0426899e-04,  6.2222459e-04],\n",
       "        ...,\n",
       "        [-2.2348803e-03, -1.8406403e-03,  2.9763053e-03, ...,\n",
       "         -3.8262447e-03, -4.4784954e-04, -6.5861241e-05],\n",
       "        [-2.5518057e-03, -2.4754812e-03,  3.4519252e-03, ...,\n",
       "         -4.2748693e-03, -1.0215449e-03, -5.2007014e-04],\n",
       "        [-2.8214562e-03, -3.0489289e-03,  3.8588711e-03, ...,\n",
       "         -4.6498934e-03, -1.5795046e-03, -9.2306628e-04]],\n",
       "\n",
       "       ...,\n",
       "\n",
       "       [[-1.6259715e-04,  1.5333512e-04,  5.8808125e-04, ...,\n",
       "          3.1664100e-04,  4.6281271e-05,  1.3006509e-04],\n",
       "        [-1.3630428e-04, -2.3880510e-05,  8.3991647e-04, ...,\n",
       "          5.6550867e-04,  2.4703378e-04,  1.0294989e-04],\n",
       "        [ 4.8384044e-04, -1.6473673e-04,  3.5046655e-04, ...,\n",
       "          9.2184730e-04,  3.2354164e-04,  3.9747587e-04],\n",
       "        ...,\n",
       "        [ 9.5333846e-05, -7.9305109e-04,  3.6627220e-03, ...,\n",
       "         -2.1599196e-03, -1.1553316e-03,  1.3551931e-03],\n",
       "        [-4.9713085e-04, -1.4408845e-03,  4.0985360e-03, ...,\n",
       "         -2.7532126e-03, -1.5500701e-03,  9.7816659e-04],\n",
       "        [-1.0673704e-03, -2.1009778e-03,  4.4658943e-03, ...,\n",
       "         -3.3084659e-03, -1.9673989e-03,  5.8658747e-04]],\n",
       "\n",
       "       [[-1.6259715e-04,  1.5333512e-04,  5.8808125e-04, ...,\n",
       "          3.1664100e-04,  4.6281271e-05,  1.3006509e-04],\n",
       "        [ 4.8431091e-05,  2.4904491e-04,  1.4559039e-03, ...,\n",
       "          2.8940162e-04, -2.0635118e-04, -3.5094199e-04],\n",
       "        [ 7.2889088e-05,  2.5892968e-04,  2.0790563e-03, ...,\n",
       "         -2.6138089e-04, -5.6219022e-07, -5.9515395e-04],\n",
       "        ...,\n",
       "        [-1.9107617e-03, -3.2589731e-03,  5.0301300e-03, ...,\n",
       "         -4.6205148e-03, -1.3902510e-03, -3.5270222e-04],\n",
       "        [-2.2772565e-03, -3.7886333e-03,  5.1368116e-03, ...,\n",
       "         -4.9141506e-03, -1.8398995e-03, -6.4297253e-04],\n",
       "        [-2.5849305e-03, -4.2569814e-03,  5.2249003e-03, ...,\n",
       "         -5.1458492e-03, -2.2905902e-03, -9.2367007e-04]],\n",
       "\n",
       "       [[-1.6259715e-04,  1.5333512e-04,  5.8808125e-04, ...,\n",
       "          3.1664100e-04,  4.6281271e-05,  1.3006509e-04],\n",
       "        [-4.5601331e-04,  1.6869036e-04,  1.3317962e-03, ...,\n",
       "         -3.1714223e-04,  1.7426234e-04,  8.4538733e-06],\n",
       "        [-2.9074922e-04,  9.7931115e-06,  1.4370847e-03, ...,\n",
       "         -9.4601890e-04, -2.5164799e-04,  2.6174437e-04],\n",
       "        ...,\n",
       "        [-9.9641981e-04, -1.6146828e-03,  3.4100160e-03, ...,\n",
       "         -3.3661460e-03,  4.5213192e-06, -4.4039972e-04],\n",
       "        [-1.5437660e-03, -2.2880079e-03,  3.8015798e-03, ...,\n",
       "         -3.7290754e-03, -4.3757740e-04, -6.3684420e-04],\n",
       "        [-2.0253598e-03, -2.9210686e-03,  4.1501997e-03, ...,\n",
       "         -4.0691691e-03, -9.2995074e-04, -8.3765859e-04]]], dtype=float32)>"
      ]
     },
     "execution_count": 11,
     "metadata": {},
     "output_type": "execute_result"
    }
   ],
   "source": [
    "# 데이터셋에서 데이터 한 배치만 불러오는 방법입니다.\n",
    "for src_sample, tgt_sample in dataset.take(1): break\n",
    "\n",
    "# 한 배치만 불러온 데이터를 모델에 넣어봅니다\n",
    "model(src_sample)"
   ]
  },
  {
   "cell_type": "code",
   "execution_count": 12,
   "id": "southeast-resistance",
   "metadata": {
    "scrolled": true
   },
   "outputs": [
    {
     "name": "stdout",
     "output_type": "stream",
     "text": [
      "Model: \"text_generator\"\n",
      "_________________________________________________________________\n",
      "Layer (type)                 Output Shape              Param #   \n",
      "=================================================================\n",
      "embedding (Embedding)        multiple                  12289024  \n",
      "_________________________________________________________________\n",
      "lstm (LSTM)                  multiple                  83902464  \n",
      "_________________________________________________________________\n",
      "lstm_1 (LSTM)                multiple                  134234112 \n",
      "_________________________________________________________________\n",
      "dense (Dense)                multiple                  49168097  \n",
      "=================================================================\n",
      "Total params: 279,593,697\n",
      "Trainable params: 279,593,697\n",
      "Non-trainable params: 0\n",
      "_________________________________________________________________\n"
     ]
    }
   ],
   "source": [
    "model.summary()"
   ]
  },
  {
   "cell_type": "code",
   "execution_count": 14,
   "id": "angry-helmet",
   "metadata": {
    "scrolled": true
   },
   "outputs": [
    {
     "name": "stdout",
     "output_type": "stream",
     "text": [
      "Epoch 1/10\n",
      "261/261 [==============================] - 1570s 6s/step - loss: 4.0624 - val_loss: 3.2469\n",
      "Epoch 2/10\n",
      "261/261 [==============================] - 1586s 6s/step - loss: 3.1169 - val_loss: 2.9541\n",
      "Epoch 3/10\n",
      "261/261 [==============================] - 1586s 6s/step - loss: 2.7691 - val_loss: 2.7502\n",
      "Epoch 4/10\n",
      "261/261 [==============================] - 1581s 6s/step - loss: 2.4331 - val_loss: 2.5853\n",
      "Epoch 5/10\n",
      "261/261 [==============================] - 1580s 6s/step - loss: 2.0898 - val_loss: 2.4556\n",
      "Epoch 6/10\n",
      "261/261 [==============================] - 1583s 6s/step - loss: 1.7472 - val_loss: 2.3547\n",
      "Epoch 7/10\n",
      "261/261 [==============================] - 1578s 6s/step - loss: 1.4421 - val_loss: 2.2909\n",
      "Epoch 8/10\n",
      "261/261 [==============================] - 1576s 6s/step - loss: 1.2015 - val_loss: 2.2704\n",
      "Epoch 9/10\n",
      "261/261 [==============================] - 1581s 6s/step - loss: 1.0366 - val_loss: 2.2816\n",
      "Epoch 10/10\n",
      "261/261 [==============================] - 1581s 6s/step - loss: 0.9476 - val_loss: 2.2989\n"
     ]
    },
    {
     "data": {
      "text/plain": [
       "<tensorflow.python.keras.callbacks.History at 0x7f1ec29c8c90>"
      ]
     },
     "execution_count": 14,
     "metadata": {},
     "output_type": "execute_result"
    }
   ],
   "source": [
    "optimizer = tf.keras.optimizers.Adam()\n",
    "loss = tf.keras.losses.SparseCategoricalCrossentropy(\n",
    "    from_logits=True,\n",
    "    reduction='none'\n",
    ")\n",
    "\n",
    "model.compile(loss=loss, optimizer=optimizer)\n",
    "model.fit(enc_train, dec_train, validation_data=(enc_val, dec_val),epochs=10, batch_size=512)"
   ]
  },
  {
   "cell_type": "code",
   "execution_count": 15,
   "id": "subtle-violence",
   "metadata": {},
   "outputs": [],
   "source": [
    "def generate_text(model, tokenizer, init_sentence=\"<start>\", max_len=20):\n",
    "    # 테스트를 위해서 입력받은 init_sentence도 텐서로 변환합니다\n",
    "    test_input = tokenizer.texts_to_sequences([init_sentence])\n",
    "    test_tensor = tf.convert_to_tensor(test_input, dtype=tf.int64)\n",
    "    end_token = tokenizer.word_index[\"<end>\"]\n",
    "\n",
    "    # 단어 하나씩 예측해 문장을 만듭니다\n",
    "    #    1. 입력받은 문장의 텐서를 입력합니다\n",
    "    #    2. 예측된 값 중 가장 높은 확률인 word index를 뽑아냅니다\n",
    "    #    3. 2에서 예측된 word index를 문장 뒤에 붙입니다\n",
    "    #    4. 모델이 <end>를 예측했거나, max_len에 도달했다면 문장 생성을 마칩니다\n",
    "    while True:\n",
    "        # 1\n",
    "        predict = model(test_tensor) \n",
    "        # 2\n",
    "        predict_word = tf.argmax(tf.nn.softmax(predict, axis=-1), axis=-1)[:, -1] \n",
    "        # 3 \n",
    "        test_tensor = tf.concat([test_tensor, tf.expand_dims(predict_word, axis=0)], axis=-1)\n",
    "        # 4\n",
    "        if predict_word.numpy()[0] == end_token: break\n",
    "        if test_tensor.shape[1] >= max_len: break\n",
    "\n",
    "    generated = \"\"\n",
    "    # tokenizer를 이용해 word index를 단어로 하나씩 변환합니다 \n",
    "    for word_index in test_tensor[0].numpy():\n",
    "        generated += tokenizer.index_word[word_index] + \" \"\n",
    "\n",
    "    return generated"
   ]
  },
  {
   "cell_type": "code",
   "execution_count": 16,
   "id": "mobile-luther",
   "metadata": {
    "scrolled": true
   },
   "outputs": [
    {
     "data": {
      "text/plain": [
       "'<start> i love you more than i did <end> '"
      ]
     },
     "execution_count": 16,
     "metadata": {},
     "output_type": "execute_result"
    }
   ],
   "source": [
    "generate_text(model, tokenizer, init_sentence=\"<start> i love\", max_len=20)"
   ]
  },
  {
   "cell_type": "markdown",
   "id": "realistic-consumer",
   "metadata": {},
   "source": [
    "---"
   ]
  },
  {
   "cell_type": "markdown",
   "id": "shared-award",
   "metadata": {},
   "source": [
    "## 평가 관련 고려한 점\n",
    "\n",
    "**1. 가사 텍스트 생성 모델이 정상적으로 동작하는가?**\n",
    "\n",
    "- 확인해보면 문맥에 맞는 문장을 구사함을 알 수 있다.\n",
    "      i love -> i love you more than i did\n",
    "- 학습을 잘못시켜서 동일한 단어만 반복하는 케이스도 발생했는데 소스와 타겟문장 생성에 주의해야함을 깨달았다.\n",
    "\n",
    "\n",
    "**2. 데이터의 전처리와 데이터셋 구성 과정이 체계적으로 진행되었는가?**\n",
    "\n",
    "- 전처리: 데이터로 주어진 가사집들을 확인해보며 삭제해야 할 부분에 대해 고민했다.\n",
    "- \\[Verse 1\\]로 되어 있는 부분은 전체 줄을 삭제했으나 가사와 함께 표시되어 있는 \\[\\]부분에 대해 고민했다. -> ]으로 종료되는 문장 삭제\n",
    "- ()안에 들어 있는 코러스에 대해서 가사가 있어 문장 구성에 도움이 되나 단순 효과음인 구절도 있는 부분에 대해서는 어떻게 처리할지 고민했다. -> 학습에 방해가 될 것을 고려하여 삭제\n",
    "- 노래 제목(nursery_rhymes.txt)도 함께 표기된 표기된 경우 제목 또한 문장으로서의 역할을 하기에 살렸다.\n",
    "- 토크나이저 생성의 경우 노드에 나온 설명대로 토큰 개수가 15개를 넘어가는 문장을 학습 데이터에서 제외하기 를 권하여  maxlen을 15 설정하였다.\n",
    "- 데이터셋 같은 경우 훈련과 평가 데이터를 나누는데 8:2가 보편적이다 하여 test_size는 0.2로 설정하였다.\n",
    "\n",
    "\n",
    "**3. 텍스트 생성모델이 안정적으로 학습되었는가?**\n",
    "\n",
    "- 10 Epoch 안에 val_loss 값을 2.2 수준으로 줄일 수 있는 모델을 설계하였다.\n",
    "- num_words, batch size, embedding size, hidden size 등 수치 변화를 통해 validation loss를 맞추려고 여러차례 반복했다.\n",
    "- 직전에는 다른 변수들은 고정해놓고 embedding size, hidden size 조정을 통해 loss값을 맞춰봤다.\n",
    "- Total params가 늘어날 수록 학습시간이 오래걸렸다. 그렇다고 해서 loss 값이 목표치 만큼 나오지는 않았다.\n",
    "- hidden_size를 4096까지 늘려 Total params가 약 2억8천이 되었다. hidden_size가 2048일때 val_loss값 2.3568이였던 것을 생각해보면 2048과 4096의 중간값정도로 조정하는 게 학습시간 효율성 측면에서 더 나을 듯 싶다."
   ]
  },
  {
   "cell_type": "markdown",
   "id": "discrete-stations",
   "metadata": {},
   "source": [
    "## 회고\n",
    "\n",
    "- 1차 시도때 loss값이 2.2566가 나와서 조금만 수정하면 된다고 생각했던 것이 오산이였다.\n",
    "- 모델이 정상적으로 작동하는 것과 loss값을 맞추는 것 중 모델의 정상 작동이 더 중요하다고 느꼈다. -> 잘못된 학습으로 동일 단어 반복할때의 loss값은 0.9이하였다.\n",
    "- 루브릭 평가 기준인 validation loss가 2.2 이하로 맞추는 것만 신경쓰며 수정한 것 같다.    \n",
    "- 생각해보면 올바른 모델이란 loss값보다도 모델 목적에 맞게 정확한 문장을 구하는 모델이 아닐까? \n",
    "  -> loss값이 2.2이하로 떨어지지 않았던 경우에도 'i love you , i m a fool'와 같은 멋진 가사가 나왔다.\n",
    "  \n",
    "  \n",
    "- 하이퍼파라미터 설정에 대해 시도해보고 고민할 수 있었던 EXPLORATION이였다.\n",
    "- 모델에 비해 학습시간이 많이 걸렸다는 생각이 든다. 좀더 확실하게 정확도를 내고 싶어서 설정했지만 좋은 방법인지에 대한 고민이 필요할 것 같다.\n",
    "- 훈련 시간을 줄이면서 좋은 모델을 만드는 방법에 대해 알고 싶다.\n",
    "\n",
    "- 9 에폭부터 val_loss값이 다시 증가하는 모습이 보였다. 지금은 제출기한 정해져있어 제출하나, 해당 부분에 대한 검토가 더 필요할 것 같다.\n",
    "\n",
    "- 적진 않겠지만 모델이 생성한 가사가 자칫하면 부적절하게 해석될만한 가사가 나오기도 했다.\n",
    "- 방송 심의에 통과할 수 있는 가사를 만드는 모델을 만들려면 어떤 부분을 수정해야하는 지 더 공부하고 싶다."
   ]
  }
 ],
 "metadata": {
  "kernelspec": {
   "display_name": "Python 3",
   "language": "python",
   "name": "python3"
  },
  "language_info": {
   "codemirror_mode": {
    "name": "ipython",
    "version": 3
   },
   "file_extension": ".py",
   "mimetype": "text/x-python",
   "name": "python",
   "nbconvert_exporter": "python",
   "pygments_lexer": "ipython3",
   "version": "3.7.9"
  }
 },
 "nbformat": 4,
 "nbformat_minor": 5
}
