{
 "cells": [
  {
   "cell_type": "markdown",
   "id": "premier-essay",
   "metadata": {},
   "source": [
    "# 6-13. 프로젝트 : This is your playground! Leaderboard를 정복해 주세요!"
   ]
  },
  {
   "cell_type": "markdown",
   "id": "alternative-anger",
   "metadata": {},
   "source": [
    "---"
   ]
  },
  {
   "cell_type": "markdown",
   "id": "experimental-experiment",
   "metadata": {},
   "source": [
    "이번 EXPLORATION은  \n",
    "[cosmic4dev](https://github.com/cosmic4dev), [\n",
    "Chang Geun Park](https://github.com/LilPark), [hyyoo3526](https://github.com/hyyoo3526) 셋이서 진행하는 프로젝트입니다👨🏼‍💻👨🏻‍💻👩‍💻"
   ]
  },
  {
   "cell_type": "markdown",
   "id": "negative-bedroom",
   "metadata": {},
   "source": [
    "---"
   ]
  },
  {
   "cell_type": "markdown",
   "id": "continued-brass",
   "metadata": {},
   "source": [
    "### 참가 대회\n",
    "\n",
    "[캐글 코리아와 함께하는 2nd ML 대회 - House Price Prediction](https://www.kaggle.com/c/2019-2nd-ml-month-with-kakr)"
   ]
  },
  {
   "cell_type": "markdown",
   "id": "electronic-background",
   "metadata": {},
   "source": [
    "### Competition background\n",
    "\n",
    "집의 가격은 주거 공간의 면적, 위치, 경관, 건물의 연식 등 여러 가지 복잡한 요인의 조합에 의해 결정됩니다.  \n",
    "이번에 분석하실 데이터는 20개의 변수를 가지고 있으며, **어떤 조건을 가진 집의 가격이 높고 낮은지를 예측하는 모델을 만드는 것**을 목표로 합니다.  \n",
    "이번 대회는 리더보드 점수뿐만 아니라 캐글의 공유 정신의 기본인 커널 작성을 장려하는 목표를 가지고 있습니다."
   ]
  },
  {
   "cell_type": "markdown",
   "id": "portuguese-willow",
   "metadata": {},
   "source": [
    "### Data fields\n",
    "\n",
    "1. ID : 집을 구분하는 번호\n",
    "2. date : 집을 구매한 날짜\n",
    "3. price : 집의 가격(Target variable)\n",
    "4. bedrooms : 침실의 수\n",
    "5. bathrooms : 화장실의 수\n",
    "6. sqft_living : 주거 공간의 평방 피트(면적)\n",
    "7. sqft_lot : 부지의 평방 피트(면적)\n",
    "8. floors : 집의 층 수\n",
    "9. waterfront : 집의 전방에 강이 흐르는지 유무 (a.k.a. 리버뷰)\n",
    "10. view : 집이 얼마나 좋아 보이는지의 정도\n",
    "11. condition : 집의 전반적인 상태\n",
    "12. grade : King County grading 시스템 기준으로 매긴 집의 등급\n",
    "13. sqft_above : 지하실을 제외한 평방 피트(면적)\n",
    "14. sqft_basement : 지하실의 평방 피트(면적)\n",
    "15. yr_built : 지어진 년도\n",
    "16. yr_renovated : 집을 재건축한 년도\n",
    "17. zipcode : 우편번호\n",
    "18. lat : 위도\n",
    "19. long : 경도\n",
    "20. sqft_living15 : 2015년 기준 주거 공간의 평방 피트(면적, 집을 재건축했다면, 변화가 있을 수 있음)\n",
    "21. sqft_lot15 : 2015년 기준 부지의 평방 피트(면적, 집을 재건축했다면, 변화가 있을 수 있음)\n",
    "\n",
    "우리가 예측해야 하는 컬럼은 **price(집의 가격)**이다."
   ]
  },
  {
   "cell_type": "markdown",
   "id": "governmental-bosnia",
   "metadata": {},
   "source": [
    "### baseline\n",
    "\n",
    "[baseline](https://www.kaggle.com/kcs93023/2019-ml-month-2nd-baseline)을 활용해보기"
   ]
  },
  {
   "cell_type": "markdown",
   "id": "difficult-winter",
   "metadata": {},
   "source": [
    "---"
   ]
  },
  {
   "cell_type": "code",
   "execution_count": 1,
   "id": "polished-fetish",
   "metadata": {},
   "outputs": [],
   "source": [
    "# 필요한 모듈 불러오기\n",
    "\n",
    "import matplotlib.pyplot as plt\n",
    "%matplotlib inline\n",
    "%config InlineBackend.figure_format = 'retina'\n",
    "\n",
    "import warnings\n",
    "warnings.filterwarnings(\"ignore\")\n",
    "\n",
    "import os\n",
    "from os.path import join\n",
    "\n",
    "import pandas as pd\n",
    "import numpy as np\n",
    "\n",
    "import missingno as msno\n",
    "\n",
    "from xgboost import XGBRegressor\n",
    "from lightgbm import LGBMRegressor\n",
    "from sklearn.ensemble import GradientBoostingRegressor, RandomForestRegressor\n",
    "\n",
    "from sklearn.model_selection import KFold, cross_val_score\n",
    "import xgboost as xgb\n",
    "import lightgbm as lgb\n",
    "\n",
    "import matplotlib.pyplot as plt\n",
    "import seaborn as sns\n",
    "\n",
    "from sklearn.model_selection import train_test_split\n",
    "from sklearn.metrics import mean_squared_error\n",
    "\n",
    "from sklearn.model_selection import GridSearchCV"
   ]
  },
  {
   "cell_type": "code",
   "execution_count": 2,
   "id": "french-aging",
   "metadata": {},
   "outputs": [],
   "source": [
    "# 데이터 불러오기\n",
    "\n",
    "data_dir = os.getenv('HOME')+'/aiffel/kaggle_kakr_housing/data'\n",
    "\n",
    "train_data_path = join(data_dir, 'train.csv')\n",
    "test_data_path = join(data_dir, 'test.csv') \n",
    "\n",
    "train = pd.read_csv(train_data_path)\n",
    "test = pd.read_csv(test_data_path)"
   ]
  },
  {
   "cell_type": "code",
   "execution_count": 3,
   "id": "permanent-minimum",
   "metadata": {
    "scrolled": false
   },
   "outputs": [
    {
     "data": {
      "text/html": [
       "<div>\n",
       "<style scoped>\n",
       "    .dataframe tbody tr th:only-of-type {\n",
       "        vertical-align: middle;\n",
       "    }\n",
       "\n",
       "    .dataframe tbody tr th {\n",
       "        vertical-align: top;\n",
       "    }\n",
       "\n",
       "    .dataframe thead th {\n",
       "        text-align: right;\n",
       "    }\n",
       "</style>\n",
       "<table border=\"1\" class=\"dataframe\">\n",
       "  <thead>\n",
       "    <tr style=\"text-align: right;\">\n",
       "      <th></th>\n",
       "      <th>id</th>\n",
       "      <th>date</th>\n",
       "      <th>price</th>\n",
       "      <th>bedrooms</th>\n",
       "      <th>bathrooms</th>\n",
       "      <th>sqft_living</th>\n",
       "      <th>sqft_lot</th>\n",
       "      <th>floors</th>\n",
       "      <th>waterfront</th>\n",
       "      <th>view</th>\n",
       "      <th>...</th>\n",
       "      <th>grade</th>\n",
       "      <th>sqft_above</th>\n",
       "      <th>sqft_basement</th>\n",
       "      <th>yr_built</th>\n",
       "      <th>yr_renovated</th>\n",
       "      <th>zipcode</th>\n",
       "      <th>lat</th>\n",
       "      <th>long</th>\n",
       "      <th>sqft_living15</th>\n",
       "      <th>sqft_lot15</th>\n",
       "    </tr>\n",
       "  </thead>\n",
       "  <tbody>\n",
       "    <tr>\n",
       "      <th>0</th>\n",
       "      <td>0</td>\n",
       "      <td>20141013T000000</td>\n",
       "      <td>221900.0</td>\n",
       "      <td>3</td>\n",
       "      <td>1.00</td>\n",
       "      <td>1180</td>\n",
       "      <td>5650</td>\n",
       "      <td>1.0</td>\n",
       "      <td>0</td>\n",
       "      <td>0</td>\n",
       "      <td>...</td>\n",
       "      <td>7</td>\n",
       "      <td>1180</td>\n",
       "      <td>0</td>\n",
       "      <td>1955</td>\n",
       "      <td>0</td>\n",
       "      <td>98178</td>\n",
       "      <td>47.5112</td>\n",
       "      <td>-122.257</td>\n",
       "      <td>1340</td>\n",
       "      <td>5650</td>\n",
       "    </tr>\n",
       "    <tr>\n",
       "      <th>1</th>\n",
       "      <td>1</td>\n",
       "      <td>20150225T000000</td>\n",
       "      <td>180000.0</td>\n",
       "      <td>2</td>\n",
       "      <td>1.00</td>\n",
       "      <td>770</td>\n",
       "      <td>10000</td>\n",
       "      <td>1.0</td>\n",
       "      <td>0</td>\n",
       "      <td>0</td>\n",
       "      <td>...</td>\n",
       "      <td>6</td>\n",
       "      <td>770</td>\n",
       "      <td>0</td>\n",
       "      <td>1933</td>\n",
       "      <td>0</td>\n",
       "      <td>98028</td>\n",
       "      <td>47.7379</td>\n",
       "      <td>-122.233</td>\n",
       "      <td>2720</td>\n",
       "      <td>8062</td>\n",
       "    </tr>\n",
       "    <tr>\n",
       "      <th>2</th>\n",
       "      <td>2</td>\n",
       "      <td>20150218T000000</td>\n",
       "      <td>510000.0</td>\n",
       "      <td>3</td>\n",
       "      <td>2.00</td>\n",
       "      <td>1680</td>\n",
       "      <td>8080</td>\n",
       "      <td>1.0</td>\n",
       "      <td>0</td>\n",
       "      <td>0</td>\n",
       "      <td>...</td>\n",
       "      <td>8</td>\n",
       "      <td>1680</td>\n",
       "      <td>0</td>\n",
       "      <td>1987</td>\n",
       "      <td>0</td>\n",
       "      <td>98074</td>\n",
       "      <td>47.6168</td>\n",
       "      <td>-122.045</td>\n",
       "      <td>1800</td>\n",
       "      <td>7503</td>\n",
       "    </tr>\n",
       "    <tr>\n",
       "      <th>3</th>\n",
       "      <td>3</td>\n",
       "      <td>20140627T000000</td>\n",
       "      <td>257500.0</td>\n",
       "      <td>3</td>\n",
       "      <td>2.25</td>\n",
       "      <td>1715</td>\n",
       "      <td>6819</td>\n",
       "      <td>2.0</td>\n",
       "      <td>0</td>\n",
       "      <td>0</td>\n",
       "      <td>...</td>\n",
       "      <td>7</td>\n",
       "      <td>1715</td>\n",
       "      <td>0</td>\n",
       "      <td>1995</td>\n",
       "      <td>0</td>\n",
       "      <td>98003</td>\n",
       "      <td>47.3097</td>\n",
       "      <td>-122.327</td>\n",
       "      <td>2238</td>\n",
       "      <td>6819</td>\n",
       "    </tr>\n",
       "    <tr>\n",
       "      <th>4</th>\n",
       "      <td>4</td>\n",
       "      <td>20150115T000000</td>\n",
       "      <td>291850.0</td>\n",
       "      <td>3</td>\n",
       "      <td>1.50</td>\n",
       "      <td>1060</td>\n",
       "      <td>9711</td>\n",
       "      <td>1.0</td>\n",
       "      <td>0</td>\n",
       "      <td>0</td>\n",
       "      <td>...</td>\n",
       "      <td>7</td>\n",
       "      <td>1060</td>\n",
       "      <td>0</td>\n",
       "      <td>1963</td>\n",
       "      <td>0</td>\n",
       "      <td>98198</td>\n",
       "      <td>47.4095</td>\n",
       "      <td>-122.315</td>\n",
       "      <td>1650</td>\n",
       "      <td>9711</td>\n",
       "    </tr>\n",
       "  </tbody>\n",
       "</table>\n",
       "<p>5 rows × 21 columns</p>\n",
       "</div>"
      ],
      "text/plain": [
       "   id             date     price  bedrooms  bathrooms  sqft_living  sqft_lot  \\\n",
       "0   0  20141013T000000  221900.0         3       1.00         1180      5650   \n",
       "1   1  20150225T000000  180000.0         2       1.00          770     10000   \n",
       "2   2  20150218T000000  510000.0         3       2.00         1680      8080   \n",
       "3   3  20140627T000000  257500.0         3       2.25         1715      6819   \n",
       "4   4  20150115T000000  291850.0         3       1.50         1060      9711   \n",
       "\n",
       "   floors  waterfront  view  ...  grade  sqft_above  sqft_basement  yr_built  \\\n",
       "0     1.0           0     0  ...      7        1180              0      1955   \n",
       "1     1.0           0     0  ...      6         770              0      1933   \n",
       "2     1.0           0     0  ...      8        1680              0      1987   \n",
       "3     2.0           0     0  ...      7        1715              0      1995   \n",
       "4     1.0           0     0  ...      7        1060              0      1963   \n",
       "\n",
       "   yr_renovated  zipcode      lat     long  sqft_living15  sqft_lot15  \n",
       "0             0    98178  47.5112 -122.257           1340        5650  \n",
       "1             0    98028  47.7379 -122.233           2720        8062  \n",
       "2             0    98074  47.6168 -122.045           1800        7503  \n",
       "3             0    98003  47.3097 -122.327           2238        6819  \n",
       "4             0    98198  47.4095 -122.315           1650        9711  \n",
       "\n",
       "[5 rows x 21 columns]"
      ]
     },
     "execution_count": 3,
     "metadata": {},
     "output_type": "execute_result"
    }
   ],
   "source": [
    "# 데이터 확인해보기\n",
    "\n",
    "train.head()"
   ]
  },
  {
   "cell_type": "code",
   "execution_count": 4,
   "id": "expensive-peeing",
   "metadata": {},
   "outputs": [
    {
     "name": "stdout",
     "output_type": "stream",
     "text": [
      "<class 'pandas.core.frame.DataFrame'>\n",
      "RangeIndex: 15035 entries, 0 to 15034\n",
      "Data columns (total 21 columns):\n",
      " #   Column         Non-Null Count  Dtype  \n",
      "---  ------         --------------  -----  \n",
      " 0   id             15035 non-null  int64  \n",
      " 1   date           15035 non-null  object \n",
      " 2   price          15035 non-null  float64\n",
      " 3   bedrooms       15035 non-null  int64  \n",
      " 4   bathrooms      15035 non-null  float64\n",
      " 5   sqft_living    15035 non-null  int64  \n",
      " 6   sqft_lot       15035 non-null  int64  \n",
      " 7   floors         15035 non-null  float64\n",
      " 8   waterfront     15035 non-null  int64  \n",
      " 9   view           15035 non-null  int64  \n",
      " 10  condition      15035 non-null  int64  \n",
      " 11  grade          15035 non-null  int64  \n",
      " 12  sqft_above     15035 non-null  int64  \n",
      " 13  sqft_basement  15035 non-null  int64  \n",
      " 14  yr_built       15035 non-null  int64  \n",
      " 15  yr_renovated   15035 non-null  int64  \n",
      " 16  zipcode        15035 non-null  int64  \n",
      " 17  lat            15035 non-null  float64\n",
      " 18  long           15035 non-null  float64\n",
      " 19  sqft_living15  15035 non-null  int64  \n",
      " 20  sqft_lot15     15035 non-null  int64  \n",
      "dtypes: float64(5), int64(15), object(1)\n",
      "memory usage: 2.4+ MB\n"
     ]
    }
   ],
   "source": [
    "train.info()"
   ]
  },
  {
   "cell_type": "markdown",
   "id": "curious-verse",
   "metadata": {},
   "source": [
    "- train 데이터 일부를 확인해 봤을 때, id는 집을 구분하는 번호로 인덱스와 같이 정보를 가지고 있지 않다.\n",
    "- date는 20141013T000000 형식으로 연/월 데이터만 사용하기 위해 T이후 부분은 불필요하다.\n",
    "- price는 우리가 예측해야하는 타겟 데이터이다.\n",
    "- 각 데이터의 세부 정보는 상단 [Data fields](#Data-fields)를 통해 확인 할 수 있다."
   ]
  },
  {
   "cell_type": "code",
   "execution_count": 5,
   "id": "ongoing-finder",
   "metadata": {},
   "outputs": [
    {
     "data": {
      "text/plain": [
       "<AxesSubplot:xlabel='price', ylabel='Density'>"
      ]
     },
     "execution_count": 5,
     "metadata": {},
     "output_type": "execute_result"
    },
    {
     "data": {
      "image/png": "[encoded data removed]",
      "text/plain": [
       "<Figure size 1080x432 with 2 Axes>"
      ]
     },
     "metadata": {
      "image/png": {
       "height": 386,
       "width": 894
      },
      "needs_background": "light"
     },
     "output_type": "display_data"
    }
   ],
   "source": [
    "# price의 분포 확인 및 변경\n",
    "\n",
    "y = train['price']\n",
    "y_log_transformation = np.log1p(y)\n",
    "\n",
    "f, ax = plt.subplots(figsize = (15, 6))\n",
    "plt.subplot(121)\n",
    "sns.distplot(y)\n",
    "plt.title('기존 y 데이터')\n",
    "plt.subplot(122)\n",
    "sns.distplot(y_log_transformation)"
   ]
  },
  {
   "cell_type": "markdown",
   "id": "stopped-pioneer",
   "metadata": {},
   "source": [
    "- 치우친 분포를 가지는 컬럼의 경우 모델이 결과를 예측하는 데에 좋지 않은 영향을 미치므로, **로그 변환(log-scaling)**을 통해 데이터 분포를 정규분포에 가깝게 만든다.\n",
    "- 이후 나오는 코드들에서는 로그 함수로 변환 된 값을 원래 값으로 변환시키는 expm1()을 활용한다."
   ]
  },
  {
   "cell_type": "code",
   "execution_count": 6,
   "id": "posted-reading",
   "metadata": {},
   "outputs": [],
   "source": [
    "# 불필요한 Column 변경\n",
    "\n",
    "train['date'] = train['date'].apply(lambda i: i[:6]).astype(int)\n",
    "test['date'] = test['date'].apply(lambda i: i[:6]).astype(int)\n",
    "\n",
    "y = train['price']\n",
    "del train['price']\n",
    "y = np.log1p(y) # price의 분포 변경\n",
    "\n",
    "del train['id']\n",
    "del test['id']"
   ]
  },
  {
   "cell_type": "markdown",
   "id": "blind-california",
   "metadata": {},
   "source": [
    "---"
   ]
  },
  {
   "cell_type": "code",
   "execution_count": 7,
   "id": "duplicate-estate",
   "metadata": {},
   "outputs": [],
   "source": [
    "# 모델 선정\n",
    "\n",
    "random_state=2020\n",
    "\n",
    "gboost = GradientBoostingRegressor(random_state=random_state)\n",
    "xgboost = XGBRegressor(random_state=random_state)\n",
    "lightgbm = LGBMRegressor(random_state=random_state)\n",
    "rdforest = RandomForestRegressor(random_state=random_state)\n",
    "\n",
    "models = [gboost, xgboost, lightgbm, rdforest]"
   ]
  },
  {
   "cell_type": "markdown",
   "id": "behavioral-assumption",
   "metadata": {},
   "source": [
    "- 사용할 모델들을 변수에 저장해보았다."
   ]
  },
  {
   "cell_type": "code",
   "execution_count": 8,
   "id": "infrared-sitting",
   "metadata": {},
   "outputs": [],
   "source": [
    "# 대회 평가 척도인 RMSE를 계산하는 함수\n",
    "\n",
    "def rmse(y_test, y_pred):\n",
    "    return np.sqrt(mean_squared_error(np.expm1(y_test), np.expm1(y_pred)))"
   ]
  },
  {
   "cell_type": "code",
   "execution_count": 9,
   "id": "honest-interest",
   "metadata": {},
   "outputs": [
    {
     "data": {
      "text/html": [
       "<div>\n",
       "<style scoped>\n",
       "    .dataframe tbody tr th:only-of-type {\n",
       "        vertical-align: middle;\n",
       "    }\n",
       "\n",
       "    .dataframe tbody tr th {\n",
       "        vertical-align: top;\n",
       "    }\n",
       "\n",
       "    .dataframe thead th {\n",
       "        text-align: right;\n",
       "    }\n",
       "</style>\n",
       "<table border=\"1\" class=\"dataframe\">\n",
       "  <thead>\n",
       "    <tr style=\"text-align: right;\">\n",
       "      <th></th>\n",
       "      <th>RMSE</th>\n",
       "    </tr>\n",
       "  </thead>\n",
       "  <tbody>\n",
       "    <tr>\n",
       "      <th>GradientBoostingRegressor</th>\n",
       "      <td>128360.196497</td>\n",
       "    </tr>\n",
       "    <tr>\n",
       "      <th>RandomForestRegressor</th>\n",
       "      <td>125487.071025</td>\n",
       "    </tr>\n",
       "    <tr>\n",
       "      <th>LGBMRegressor</th>\n",
       "      <td>111920.367359</td>\n",
       "    </tr>\n",
       "    <tr>\n",
       "      <th>XGBRegressor</th>\n",
       "      <td>110318.669566</td>\n",
       "    </tr>\n",
       "  </tbody>\n",
       "</table>\n",
       "</div>"
      ],
      "text/plain": [
       "                                    RMSE\n",
       "GradientBoostingRegressor  128360.196497\n",
       "RandomForestRegressor      125487.071025\n",
       "LGBMRegressor              111920.367359\n",
       "XGBRegressor               110318.669566"
      ]
     },
     "execution_count": 9,
     "metadata": {},
     "output_type": "execute_result"
    }
   ],
   "source": [
    "# 모델별 RMSE을 구하는 함수\n",
    "\n",
    "def get_scores(models, train, y):\n",
    "    df = {}\n",
    "    \n",
    "    for model in models:\n",
    "        # 모델 이름 획득\n",
    "        model_name = model.__class__.__name__\n",
    "        # train, test 데이터셋 분리 - 여기에도 random_state를 고정합니다.\n",
    "        X_train, X_test, y_train, y_test = train_test_split(train, y, random_state=random_state, test_size=0.2)\n",
    "        # 모델 학습\n",
    "        model.fit(X_train, y_train)\n",
    "        # 예측\n",
    "        y_pred = model.predict(X_test)\n",
    "        # 예측 결과의 rmse값 저장\n",
    "        df[model_name] = rmse(y_test, y_pred)\n",
    "        # data frame에 저장\n",
    "        score_df = pd.DataFrame(df, index=['RMSE']).T.sort_values('RMSE', ascending=False)\n",
    "            \n",
    "    return score_df\n",
    "\n",
    "get_scores(models, train, y)"
   ]
  },
  {
   "cell_type": "markdown",
   "id": "attached-sellers",
   "metadata": {},
   "source": [
    "- 결과값을 보면 XGBRegressor, LGBMRegressor, RandomForestRegressor, GradientBoostingRegressor 순으로 좋은 값을 내고 있다.\n",
    "- 이 중 110000 수준인 XGBRegressor, LGBMRegressor만 활용하기로 하였다."
   ]
  },
  {
   "cell_type": "code",
   "execution_count": 10,
   "id": "interior-candy",
   "metadata": {},
   "outputs": [],
   "source": [
    "# GridSearch를 통해 최적의 하이퍼파라미터를 찾는 함수\n",
    "\n",
    "def my_GridSearch(model, train, y, param_grid, verbose=2, n_jobs=5):\n",
    "    grid_model = GridSearchCV(model, param_grid=param_grid, scoring='neg_mean_squared_error', \\\n",
    "                              cv=5, verbose=verbose, n_jobs=n_jobs)\n",
    "    \n",
    "    grid_model.fit(train, y)\n",
    "\n",
    "    params = grid_model.cv_results_['params']\n",
    "    score = grid_model.cv_results_['mean_test_score']\n",
    "    \n",
    "    results = pd.DataFrame(params)\n",
    "    results['score'] = score\n",
    "    \n",
    "    results['RMSLE'] = np.sqrt(-1 * results['score'])\n",
    "    results = results.sort_values('RMSLE')\n",
    "\n",
    "    return results"
   ]
  },
  {
   "cell_type": "code",
   "execution_count": 11,
   "id": "waiting-diabetes",
   "metadata": {
    "scrolled": true
   },
   "outputs": [
    {
     "name": "stdout",
     "output_type": "stream",
     "text": [
      "Fitting 5 folds for each of 180 candidates, totalling 900 fits\n"
     ]
    },
    {
     "name": "stderr",
     "output_type": "stream",
     "text": [
      "[Parallel(n_jobs=5)]: Using backend LokyBackend with 5 concurrent workers.\n",
      "[Parallel(n_jobs=5)]: Done  31 tasks      | elapsed:   13.2s\n",
      "[Parallel(n_jobs=5)]: Done 152 tasks      | elapsed:  1.0min\n",
      "[Parallel(n_jobs=5)]: Done 355 tasks      | elapsed:  2.4min\n",
      "[Parallel(n_jobs=5)]: Done 638 tasks      | elapsed:  4.0min\n",
      "[Parallel(n_jobs=5)]: Done 900 out of 900 | elapsed:  5.4min finished\n"
     ]
    },
    {
     "name": "stdout",
     "output_type": "stream",
     "text": [
      "[LightGBM] [Warning] Accuracy may be bad since you didn't explicitly set num_leaves OR 2^max_depth > num_leaves. (num_leaves=31).\n"
     ]
    },
    {
     "data": {
      "text/html": [
       "<div>\n",
       "<style scoped>\n",
       "    .dataframe tbody tr th:only-of-type {\n",
       "        vertical-align: middle;\n",
       "    }\n",
       "\n",
       "    .dataframe tbody tr th {\n",
       "        vertical-align: top;\n",
       "    }\n",
       "\n",
       "    .dataframe thead th {\n",
       "        text-align: right;\n",
       "    }\n",
       "</style>\n",
       "<table border=\"1\" class=\"dataframe\">\n",
       "  <thead>\n",
       "    <tr style=\"text-align: right;\">\n",
       "      <th></th>\n",
       "      <th>learning_rate</th>\n",
       "      <th>max_depth</th>\n",
       "      <th>n_estimators</th>\n",
       "      <th>num_leaves</th>\n",
       "      <th>score</th>\n",
       "      <th>RMSLE</th>\n",
       "    </tr>\n",
       "  </thead>\n",
       "  <tbody>\n",
       "    <tr>\n",
       "      <th>143</th>\n",
       "      <td>0.05</td>\n",
       "      <td>13</td>\n",
       "      <td>700</td>\n",
       "      <td>31</td>\n",
       "      <td>-0.025891</td>\n",
       "      <td>0.160908</td>\n",
       "    </tr>\n",
       "    <tr>\n",
       "      <th>141</th>\n",
       "      <td>0.05</td>\n",
       "      <td>13</td>\n",
       "      <td>650</td>\n",
       "      <td>31</td>\n",
       "      <td>-0.025917</td>\n",
       "      <td>0.160987</td>\n",
       "    </tr>\n",
       "    <tr>\n",
       "      <th>153</th>\n",
       "      <td>0.05</td>\n",
       "      <td>15</td>\n",
       "      <td>650</td>\n",
       "      <td>31</td>\n",
       "      <td>-0.025924</td>\n",
       "      <td>0.161010</td>\n",
       "    </tr>\n",
       "    <tr>\n",
       "      <th>155</th>\n",
       "      <td>0.05</td>\n",
       "      <td>15</td>\n",
       "      <td>700</td>\n",
       "      <td>31</td>\n",
       "      <td>-0.025925</td>\n",
       "      <td>0.161013</td>\n",
       "    </tr>\n",
       "    <tr>\n",
       "      <th>139</th>\n",
       "      <td>0.05</td>\n",
       "      <td>13</td>\n",
       "      <td>600</td>\n",
       "      <td>31</td>\n",
       "      <td>-0.025928</td>\n",
       "      <td>0.161022</td>\n",
       "    </tr>\n",
       "    <tr>\n",
       "      <th>...</th>\n",
       "      <td>...</td>\n",
       "      <td>...</td>\n",
       "      <td>...</td>\n",
       "      <td>...</td>\n",
       "      <td>...</td>\n",
       "      <td>...</td>\n",
       "    </tr>\n",
       "    <tr>\n",
       "      <th>0</th>\n",
       "      <td>0.01</td>\n",
       "      <td>11</td>\n",
       "      <td>450</td>\n",
       "      <td>15</td>\n",
       "      <td>-0.033015</td>\n",
       "      <td>0.181700</td>\n",
       "    </tr>\n",
       "    <tr>\n",
       "      <th>12</th>\n",
       "      <td>0.01</td>\n",
       "      <td>13</td>\n",
       "      <td>450</td>\n",
       "      <td>15</td>\n",
       "      <td>-0.033025</td>\n",
       "      <td>0.181729</td>\n",
       "    </tr>\n",
       "    <tr>\n",
       "      <th>48</th>\n",
       "      <td>0.01</td>\n",
       "      <td>19</td>\n",
       "      <td>450</td>\n",
       "      <td>15</td>\n",
       "      <td>-0.033029</td>\n",
       "      <td>0.181738</td>\n",
       "    </tr>\n",
       "    <tr>\n",
       "      <th>36</th>\n",
       "      <td>0.01</td>\n",
       "      <td>17</td>\n",
       "      <td>450</td>\n",
       "      <td>15</td>\n",
       "      <td>-0.033029</td>\n",
       "      <td>0.181738</td>\n",
       "    </tr>\n",
       "    <tr>\n",
       "      <th>24</th>\n",
       "      <td>0.01</td>\n",
       "      <td>15</td>\n",
       "      <td>450</td>\n",
       "      <td>15</td>\n",
       "      <td>-0.033029</td>\n",
       "      <td>0.181738</td>\n",
       "    </tr>\n",
       "  </tbody>\n",
       "</table>\n",
       "<p>180 rows × 6 columns</p>\n",
       "</div>"
      ],
      "text/plain": [
       "     learning_rate  max_depth  n_estimators  num_leaves     score     RMSLE\n",
       "143           0.05         13           700          31 -0.025891  0.160908\n",
       "141           0.05         13           650          31 -0.025917  0.160987\n",
       "153           0.05         15           650          31 -0.025924  0.161010\n",
       "155           0.05         15           700          31 -0.025925  0.161013\n",
       "139           0.05         13           600          31 -0.025928  0.161022\n",
       "..             ...        ...           ...         ...       ...       ...\n",
       "0             0.01         11           450          15 -0.033015  0.181700\n",
       "12            0.01         13           450          15 -0.033025  0.181729\n",
       "48            0.01         19           450          15 -0.033029  0.181738\n",
       "36            0.01         17           450          15 -0.033029  0.181738\n",
       "24            0.01         15           450          15 -0.033029  0.181738\n",
       "\n",
       "[180 rows x 6 columns]"
      ]
     },
     "execution_count": 11,
     "metadata": {},
     "output_type": "execute_result"
    }
   ],
   "source": [
    "param_grid = {\n",
    "    'n_estimators': [450, 500, 550, 600, 650, 700],\n",
    "    'max_depth': [11, 13, 15, 17, 19],\n",
    "    'num_leaves': [15, 31],\n",
    "    'learning_rate': [0.01, 0.03, 0.05]\n",
    "}\n",
    "model = LGBMRegressor(random_state=random_state)\n",
    "my_GridSearch(model, train, y, param_grid, verbose=2, n_jobs=5)"
   ]
  },
  {
   "cell_type": "markdown",
   "id": "legislative-amazon",
   "metadata": {},
   "source": [
    "- LGBMRegressor의 경우 learning_rate=0.05, max_depth=13, n_estimators=700, num_leaves=31에서 좋은 성능을 보였다\n",
    "- 아래 해당 하이퍼파라미터를 이용하여 모델 학습을 진행한다."
   ]
  },
  {
   "cell_type": "code",
   "execution_count": 12,
   "id": "violent-israeli",
   "metadata": {},
   "outputs": [
    {
     "data": {
      "text/plain": [
       "LGBMRegressor(learning_rate=0.05, max_depth=13, n_estimators=700,\n",
       "              random_state=2020)"
      ]
     },
     "execution_count": 12,
     "metadata": {},
     "output_type": "execute_result"
    }
   ],
   "source": [
    "# LGBMRegressor 모델 학습\n",
    "\n",
    "model = LGBMRegressor(learning_rate=0.05, max_depth=13, n_estimators=700, num_leaves=31, random_state=random_state)\n",
    "model.fit(train, y)"
   ]
  },
  {
   "cell_type": "code",
   "execution_count": 13,
   "id": "enclosed-pattern",
   "metadata": {},
   "outputs": [
    {
     "data": {
      "text/plain": [
       "array([ 493951.43914791,  456788.72902001, 1354182.6174898 , ...,\n",
       "        478907.14766353,  317144.7715777 ,  443186.81342628])"
      ]
     },
     "execution_count": 13,
     "metadata": {},
     "output_type": "execute_result"
    }
   ],
   "source": [
    "# 모델 예측 및 값 재변환\n",
    "\n",
    "prediction_lgbm = model.predict(test)\n",
    "prediction_lgbm = np.expm1(prediction_lgbm)\n",
    "prediction_lgbm"
   ]
  },
  {
   "cell_type": "markdown",
   "id": "enormous-mission",
   "metadata": {},
   "source": [
    "---"
   ]
  },
  {
   "cell_type": "markdown",
   "id": "smoking-patch",
   "metadata": {},
   "source": [
    "- XGBRegressor 또한 적절한 하이퍼파라미터를 통해 학습과 예측을 진행한다."
   ]
  },
  {
   "cell_type": "code",
   "execution_count": 18,
   "id": "pharmaceutical-powell",
   "metadata": {},
   "outputs": [
    {
     "data": {
      "text/plain": [
       "array([13.217484, 13.044293, 14.168218, ..., 13.10827 , 12.696807,\n",
       "       13.019218], dtype=float32)"
      ]
     },
     "execution_count": 18,
     "metadata": {},
     "output_type": "execute_result"
    }
   ],
   "source": [
    "# XGBRegressor 모델 학습\n",
    "\n",
    "\n",
    "# eta = learning rate, num_boost_around = n_estimators\n",
    "model_xgb = XGBRegressor(learning_rate=0.02, max_depth=6, n_estimators=5000, random_state=random_state)\n",
    "model_xgb.fit(train, y)\n",
    "\n",
    "prediction_xgb = model_xgb.predict(test)\n",
    "prediction_xgb"
   ]
  },
  {
   "cell_type": "code",
   "execution_count": 19,
   "id": "meaning-jaguar",
   "metadata": {},
   "outputs": [
    {
     "data": {
      "text/plain": [
       "array([ 549895.  ,  462448.84, 1422913.2 , ...,  493001.6 ,  326702.03,\n",
       "        450997.12], dtype=float32)"
      ]
     },
     "execution_count": 19,
     "metadata": {},
     "output_type": "execute_result"
    }
   ],
   "source": [
    "# 예측값 재변환\n",
    "\n",
    "\n",
    "prediction_xgb = np.expm1(prediction_xgb)\n",
    "prediction_xgb"
   ]
  },
  {
   "cell_type": "markdown",
   "id": "focused-harrison",
   "metadata": {},
   "source": [
    "---"
   ]
  },
  {
   "cell_type": "code",
   "execution_count": 20,
   "id": "acceptable-edition",
   "metadata": {},
   "outputs": [],
   "source": [
    "# Average Blending 구현\n",
    "\n",
    "prediction_ensemble = np.vstack([prediction_lgbm, prediction_xgb]).mean(0)"
   ]
  },
  {
   "cell_type": "markdown",
   "id": "sufficient-chosen",
   "metadata": {},
   "source": [
    "- LGBMRegressor, XGBRegressor의 예측값 배열을 vstack()을 활용해서 합쳐준다.\n",
    "- 위의 합산한 값의 mean()으로 평균값을 구한다."
   ]
  },
  {
   "cell_type": "code",
   "execution_count": 21,
   "id": "attractive-hamburg",
   "metadata": {},
   "outputs": [
    {
     "data": {
      "text/html": [
       "<div>\n",
       "<style scoped>\n",
       "    .dataframe tbody tr th:only-of-type {\n",
       "        vertical-align: middle;\n",
       "    }\n",
       "\n",
       "    .dataframe tbody tr th {\n",
       "        vertical-align: top;\n",
       "    }\n",
       "\n",
       "    .dataframe thead th {\n",
       "        text-align: right;\n",
       "    }\n",
       "</style>\n",
       "<table border=\"1\" class=\"dataframe\">\n",
       "  <thead>\n",
       "    <tr style=\"text-align: right;\">\n",
       "      <th></th>\n",
       "      <th>id</th>\n",
       "      <th>price</th>\n",
       "    </tr>\n",
       "  </thead>\n",
       "  <tbody>\n",
       "    <tr>\n",
       "      <th>0</th>\n",
       "      <td>15035</td>\n",
       "      <td>100000</td>\n",
       "    </tr>\n",
       "    <tr>\n",
       "      <th>1</th>\n",
       "      <td>15036</td>\n",
       "      <td>100000</td>\n",
       "    </tr>\n",
       "    <tr>\n",
       "      <th>2</th>\n",
       "      <td>15037</td>\n",
       "      <td>100000</td>\n",
       "    </tr>\n",
       "    <tr>\n",
       "      <th>3</th>\n",
       "      <td>15038</td>\n",
       "      <td>100000</td>\n",
       "    </tr>\n",
       "    <tr>\n",
       "      <th>4</th>\n",
       "      <td>15039</td>\n",
       "      <td>100000</td>\n",
       "    </tr>\n",
       "  </tbody>\n",
       "</table>\n",
       "</div>"
      ],
      "text/plain": [
       "      id   price\n",
       "0  15035  100000\n",
       "1  15036  100000\n",
       "2  15037  100000\n",
       "3  15038  100000\n",
       "4  15039  100000"
      ]
     },
     "execution_count": 21,
     "metadata": {},
     "output_type": "execute_result"
    }
   ],
   "source": [
    "# 제출 데이터 샘플 확인\n",
    "\n",
    "data_dir = os.getenv('HOME')+'/aiffel/kaggle_kakr_housing/data'\n",
    "\n",
    "submission_path = join(data_dir, 'sample_submission.csv')\n",
    "submission = pd.read_csv(submission_path)\n",
    "submission.head()"
   ]
  },
  {
   "cell_type": "code",
   "execution_count": 22,
   "id": "extensive-devon",
   "metadata": {},
   "outputs": [
    {
     "data": {
      "text/html": [
       "<div>\n",
       "<style scoped>\n",
       "    .dataframe tbody tr th:only-of-type {\n",
       "        vertical-align: middle;\n",
       "    }\n",
       "\n",
       "    .dataframe tbody tr th {\n",
       "        vertical-align: top;\n",
       "    }\n",
       "\n",
       "    .dataframe thead th {\n",
       "        text-align: right;\n",
       "    }\n",
       "</style>\n",
       "<table border=\"1\" class=\"dataframe\">\n",
       "  <thead>\n",
       "    <tr style=\"text-align: right;\">\n",
       "      <th></th>\n",
       "      <th>id</th>\n",
       "      <th>price</th>\n",
       "    </tr>\n",
       "  </thead>\n",
       "  <tbody>\n",
       "    <tr>\n",
       "      <th>0</th>\n",
       "      <td>15035</td>\n",
       "      <td>5.219232e+05</td>\n",
       "    </tr>\n",
       "    <tr>\n",
       "      <th>1</th>\n",
       "      <td>15036</td>\n",
       "      <td>4.596188e+05</td>\n",
       "    </tr>\n",
       "    <tr>\n",
       "      <th>2</th>\n",
       "      <td>15037</td>\n",
       "      <td>1.388548e+06</td>\n",
       "    </tr>\n",
       "    <tr>\n",
       "      <th>3</th>\n",
       "      <td>15038</td>\n",
       "      <td>2.998234e+05</td>\n",
       "    </tr>\n",
       "    <tr>\n",
       "      <th>4</th>\n",
       "      <td>15039</td>\n",
       "      <td>3.295730e+05</td>\n",
       "    </tr>\n",
       "  </tbody>\n",
       "</table>\n",
       "</div>"
      ],
      "text/plain": [
       "      id         price\n",
       "0  15035  5.219232e+05\n",
       "1  15036  4.596188e+05\n",
       "2  15037  1.388548e+06\n",
       "3  15038  2.998234e+05\n",
       "4  15039  3.295730e+05"
      ]
     },
     "execution_count": 22,
     "metadata": {},
     "output_type": "execute_result"
    }
   ],
   "source": [
    "# 제출 데이터 저장\n",
    "\n",
    "submission['price'] = prediction_ensemble\n",
    "submission.head()"
   ]
  },
  {
   "cell_type": "code",
   "execution_count": 23,
   "id": "atomic-tokyo",
   "metadata": {},
   "outputs": [
    {
     "name": "stdout",
     "output_type": "stream",
     "text": [
      "/aiffel/aiffel/kaggle_kakr_housing/data/submission_ensemble2_RMSLE_lgbm_xgb.csv\n"
     ]
    }
   ],
   "source": [
    "# 제출 파일 저장\n",
    "\n",
    "submission_csv_path = '{}/submission_{}_RMSLE_{}.csv'.format(data_dir, 'ensemble2', 'lgbm_xgb')\n",
    "submission.to_csv(submission_csv_path, index=False)\n",
    "print(submission_csv_path)"
   ]
  },
  {
   "cell_type": "markdown",
   "id": "operating-sydney",
   "metadata": {},
   "source": [
    "---"
   ]
  },
  {
   "attachments": {
    "image-3.png": {
     "image/png": "[encoded data removed]"
    }
   },
   "cell_type": "markdown",
   "id": "electrical-roommate",
   "metadata": {},
   "source": [
    "## 최종 스코어 \n",
    "Private Score: 109681.61169\n",
    "\n",
    "![image-3.png](attachment:image-3.png)"
   ]
  },
  {
   "cell_type": "markdown",
   "id": "public-centre",
   "metadata": {},
   "source": [
    "---"
   ]
  },
  {
   "cell_type": "markdown",
   "id": "cosmetic-persian",
   "metadata": {},
   "source": [
    "## 루브릭\n",
    "\n",
    "\n",
    "**1. 캐글 데이터분석 전과정이 성공적으로 진행되었는가?**\n",
    "\n",
    "- 데이터 전처리, 모델학습, 예측의 전체 과정을 거쳐 캐글 제출을 진행하였다.  \n",
    "\n",
    "**2. 전처리, 학습과정 및 결과에 대한 설명이 시각화를 포함하여 체계적으로 진행되었는가?**\n",
    "\n",
    "- 전처리, 학습, 최적화 진행 과정이 체계적으로 기술되었다.  \n",
    "\n",
    "**3. 회귀모델 예측정확도가 기준 이상 높게 나왔는가?**\n",
    "\n",
    "- 2번 과정을 통해 캐글 Private score가 110000 이하인 109681.61169 점수를 얻었다.  "
   ]
  },
  {
   "cell_type": "markdown",
   "id": "precise-defendant",
   "metadata": {},
   "source": [
    "---"
   ]
  },
  {
   "cell_type": "markdown",
   "id": "liable-degree",
   "metadata": {},
   "source": [
    "## 협업 과정"
   ]
  },
  {
   "cell_type": "markdown",
   "id": "convinced-nutrition",
   "metadata": {},
   "source": [
    "\\# 가독성을 위해 구어체로 작성되었다."
   ]
  },
  {
   "cell_type": "markdown",
   "id": "weighted-silver",
   "metadata": {},
   "source": [
    "#### Day1\n",
    "창근- 우리는 어떻게 하는 게 좋을까?  \n",
    "현지 - 다른 조들은 다같이 코드작성 후 따로 회고 쓴다고 하던데...  \n",
    "창근 -그것도 좋지만 회고도 개인적으로 적는 것 보다, 같이 상의하고 설명한 내용을 정리해서 적는 건 어때? 그 안에서 개인적으로 느낌이나 어려웠던 부분들은 개별적으로 적고, 함께 정리해서 추가하는 식으로 하면 될 것 같아!  \n",
    "\n",
    "창근- 일단 전체적인 프로세스나 코드들을 어느정도는 이해할 필요가 있어  \n",
    "창근- 지금 노드안에 있는 내용 말고도 캐글대회에 올라온 코드들을 분석하고 정리하는 건 어떨까?   \n",
    "현지 - 좋아 구글링해도 여러 자료들이 있어 좋은 부분만 참고하여 필요한 부분을 활용해보자  \n",
    "\n",
    "현지 - 평가기준에 대해 생각해봤는데, 루브릭을 보면 2번 시각화랑 학습에 대한 설명과 우리가 협업을 얼마나 잘했는지가 좋은 평가를 받는데 도움이 될 것 같아  \n",
    "\n",
    "창근- 지난번 작사가 EXPLORATION [승환님이 올린 걸](https://github.com/RobotPoly/exploration/tree/main/%5BE-4%5DCreate_a_lyricist) 보니 그래프로 시각화한거 좋았었어  \n",
    "현지 - 좋아 우리도 넣어보자  \n",
    "\n",
    "경원- 그럼 프로젝트를 진행하면서 의견 나누는 거야?   \n",
    "창근- 우선 기본 공부인 6-12까지는 끝내고 의견 나누는 것이 좋을 것 같아  \n",
    "\n",
    "창근- 또 해당 문제 캐글 코드들도 살펴보고, 좋은는 부분들 있으시면 추가해서 보여줘  \n",
    "또 노드에 나와있는 방법 말고도 도움이 되는 변수들 있으면, 코드 작성해서 공유해보자    \n",
    "경원- 좋아 레퍼런스를 찾아보자  "
   ]
  },
  {
   "cell_type": "markdown",
   "id": "clinical-friday",
   "metadata": {},
   "source": [
    "#### Day2\n",
    "\n",
    "창근- 공유한 쥬피터 노트북을 보면 이해하기 쉽게 코드를 작성해봤어    \n",
    "현지- 코드에 대해 이해가 부족해서 설명해주면 고마울 것 같아    \n",
    "경원- 코드를 함께 보면서 상의해보자   \n",
    "\n",
    "<코드 상의 후>\n",
    "\n",
    "현지- 고마워 코드가 전체적으로 어떻게 흘러가고 어디를 수정할 지 알게 되었어  \n",
    "창근- Public Score가 아닌 Private Score를 기준에 맞추기 위해선 수정이 필요해  \n",
    "경원- 우리 좀 더 좋은 하이퍼파라미터를 고민해보고 만나자  \n",
    "\n",
    "경원- 피쳐를 삭제하면 어떻게 되었니?   \n",
    "현지- 단순하게 생각해서 필요없다고 지웠더니 644812점이 나왔어.. 충분한 탐색 없이 데이터를 삭제하는 건 위험부담이 크네    \n",
    "경원- 그럼 우선 삭제하지 않고 진행해볼게  \n",
    "\n",
    "창근- 그리드서치와 모델 앙상블을 이용해서 루브릭 목표 점수에 도달했어  \n",
    "경원- 나도 그 부분을 하고 있었는데 어떻게 달성했는지 같이 확인해보자  \n",
    "현지- 코드가 얼추 정리되면, 쥬피터 노트북을 보고 이해할 수 있도록 정리해서 파일을 공유할게  \n",
    "우리 서로 해당 파일을 확인해보고 이야기해 보자  "
   ]
  },
  {
   "cell_type": "markdown",
   "id": "gentle-vessel",
   "metadata": {},
   "source": [
    "---"
   ]
  },
  {
   "cell_type": "markdown",
   "id": "color-resident",
   "metadata": {},
   "source": [
    "## 회고"
   ]
  },
  {
   "cell_type": "markdown",
   "id": "unauthorized-dimension",
   "metadata": {},
   "source": [
    "박경원👨🏼‍💻:  \n",
    "- 캐글 대회 전 전체적인 플로우의 감을 잡기 위한 좋은 시간이었다.  \n",
    "    어떤 모델을 해야 좋을지에 대한 고민과 효과적인 모델과 파라미터를 선택에 사용되는 GridSearchCV활용이 \n",
    "    유용하고 재밌다고 느꼈다.   \n",
    "    그리고 넘파이와 판다스를 보다 유연하게 쓰기 위한 노력이 필요함을 느꼈다.  \n",
    "    당분간 이 부분에 대한 자습을 해야겠다.  "
   ]
  },
  {
   "cell_type": "markdown",
   "id": "incorrect-evans",
   "metadata": {},
   "source": [
    "박창근👨🏻‍💻:   \n",
    "- 캐글을 처음 경험해봤는데, 무엇을 해야 할지, 어떻게 시작할지 감을 잡는 것부터 어려웠다.   \n",
    "    전처리 과정, 시각화 과정, 모델 선정 등 고려해야 할 사항들이 너무 많았고, 성능 향상을 위해서는 모든 과정을 신경 써야 했다.   \n",
    "    2박 3일로 진행되는 캐글 대회에서 이 모든 과정을 팀원들과 함께 수행할 수 있을까에 대해 걱정이 되고, 어쩌면 좋은 래퍼런스를 찾는 것이 중요할 수도 있겠다는 생각이 들었다.   \n",
    "    또한, 노드에서 진행한 내용보다 내가 알지 못했던 새로운 내용들이 너무 많았고, 그것들을 스스로 찾아가면서 많은 공부를 했던 것 같다. 아직도 배울 것이 너무 많다.\n"
   ]
  },
  {
   "cell_type": "markdown",
   "id": "frank-criminal",
   "metadata": {},
   "source": [
    "유현지👩‍💻:  \n",
    "- 캐글 첫 경험은 물음표 투성이로 끝난 것 같다.  \n",
    "    계속 의문만을 남기지 않게 채워가도록 하겠다.\n",
    "\n",
    "- 전하는 말  \n",
    "아이펠 첫 팀별 프로젝트라 설레기도 하고 부담도 되었습니다.  \n",
    "잘하는 두 분의 발목을 잡지 않기 위해서 노력했는데, 하나하나 친절하게 설명해주셔서 감사했습니다.  \n",
    "보통 노드에서 알려주는 것 위주로 학습하였는데, 더 많이 알아보고 검색하는 팀원들 덕에 저도 그렇게 해야겠다 마음먹었습니다.  \n",
    "다음에는 제가 이끌 수 있도록 노력하겠습니다."
   ]
  }
 ],
 "metadata": {
  "kernelspec": {
   "display_name": "Python 3",
   "language": "python",
   "name": "python3"
  },
  "language_info": {
   "codemirror_mode": {
    "name": "ipython",
    "version": 3
   },
   "file_extension": ".py",
   "mimetype": "text/x-python",
   "name": "python",
   "nbconvert_exporter": "python",
   "pygments_lexer": "ipython3",
   "version": "3.7.9"
  }
 },
 "nbformat": 4,
 "nbformat_minor": 5
}
