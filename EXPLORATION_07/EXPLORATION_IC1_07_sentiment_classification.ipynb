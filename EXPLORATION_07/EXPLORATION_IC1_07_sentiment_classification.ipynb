{
 "cells": [
  {
   "cell_type": "markdown",
   "id": "exact-sheffield",
   "metadata": {},
   "source": [
    "# 7-11. 프로젝트 : 네이버 영화리뷰 감성분석 도전하기"
   ]
  },
  {
   "cell_type": "markdown",
   "id": "greenhouse-history",
   "metadata": {},
   "source": [
    "---"
   ]
  },
  {
   "cell_type": "markdown",
   "id": "colonial-proceeding",
   "metadata": {},
   "source": [
    "## **목차**\n",
    "\n",
    "Step1.[데이터 준비와 확인](#Step1.-데이터-준비와-확인)  \n",
    "Step2.[데이터로더 구성](#Step2.-데이터로더-구성)  \n",
    "Step3.[모델구성을 위한 데이터 분석 및 가공](#Step3.-모델구성을-위한-데이터-분석-및-가공)  \n",
    "Step4.[모델구성 및 validation set 구성](#Step4.-모델구성-및-validation-set-구성)  \n",
    "Step5.[모델 훈련 개시](#Step5.-모델-훈련-개시)  \n",
    "Step6.[Loss, Accuracy 그래프 시각화](#Step6.-Loss,-Accuracy-그래프-시각화)  \n",
    "Step7.[학습된 Embedding 레이어 분석](#Step7.-학습된-Embedding-레이어-분석)  \n",
    "Step8.[한국어 Word2Vec 임베딩 활용하여 성능개선](#Step8.-한국어-Word2Vec-임베딩-활용하여-성능개선)  \n",
    "⭐[루브릭 관련 고려한 점](#루브릭-관련-고려한-점)  \n",
    "🙋[회고](#회고)\n"
   ]
  },
  {
   "cell_type": "markdown",
   "id": "hungarian-valley",
   "metadata": {},
   "source": [
    "---"
   ]
  },
  {
   "cell_type": "markdown",
   "id": "swiss-allen",
   "metadata": {},
   "source": [
    "## Step 1. 데이터 준비와 확인"
   ]
  },
  {
   "cell_type": "markdown",
   "id": "saved-sudan",
   "metadata": {},
   "source": [
    "- 네이버 영화리뷰 데이터를 [다운로드](https://github.com/e9t/nsmc) 받습니다."
   ]
  },
  {
   "cell_type": "code",
   "execution_count": 1,
   "id": "strong-pledge",
   "metadata": {
    "scrolled": true
   },
   "outputs": [
    {
     "data": {
      "text/html": [
       "<div>\n",
       "<style scoped>\n",
       "    .dataframe tbody tr th:only-of-type {\n",
       "        vertical-align: middle;\n",
       "    }\n",
       "\n",
       "    .dataframe tbody tr th {\n",
       "        vertical-align: top;\n",
       "    }\n",
       "\n",
       "    .dataframe thead th {\n",
       "        text-align: right;\n",
       "    }\n",
       "</style>\n",
       "<table border=\"1\" class=\"dataframe\">\n",
       "  <thead>\n",
       "    <tr style=\"text-align: right;\">\n",
       "      <th></th>\n",
       "      <th>id</th>\n",
       "      <th>document</th>\n",
       "      <th>label</th>\n",
       "    </tr>\n",
       "  </thead>\n",
       "  <tbody>\n",
       "    <tr>\n",
       "      <th>0</th>\n",
       "      <td>9976970</td>\n",
       "      <td>아 더빙.. 진짜 짜증나네요 목소리</td>\n",
       "      <td>0</td>\n",
       "    </tr>\n",
       "    <tr>\n",
       "      <th>1</th>\n",
       "      <td>3819312</td>\n",
       "      <td>흠...포스터보고 초딩영화줄....오버연기조차 가볍지 않구나</td>\n",
       "      <td>1</td>\n",
       "    </tr>\n",
       "    <tr>\n",
       "      <th>2</th>\n",
       "      <td>10265843</td>\n",
       "      <td>너무재밓었다그래서보는것을추천한다</td>\n",
       "      <td>0</td>\n",
       "    </tr>\n",
       "    <tr>\n",
       "      <th>3</th>\n",
       "      <td>9045019</td>\n",
       "      <td>교도소 이야기구먼 ..솔직히 재미는 없다..평점 조정</td>\n",
       "      <td>0</td>\n",
       "    </tr>\n",
       "    <tr>\n",
       "      <th>4</th>\n",
       "      <td>6483659</td>\n",
       "      <td>사이몬페그의 익살스런 연기가 돋보였던 영화!스파이더맨에서 늙어보이기만 했던 커스틴 ...</td>\n",
       "      <td>1</td>\n",
       "    </tr>\n",
       "  </tbody>\n",
       "</table>\n",
       "</div>"
      ],
      "text/plain": [
       "         id                                           document  label\n",
       "0   9976970                                아 더빙.. 진짜 짜증나네요 목소리      0\n",
       "1   3819312                  흠...포스터보고 초딩영화줄....오버연기조차 가볍지 않구나      1\n",
       "2  10265843                                  너무재밓었다그래서보는것을추천한다      0\n",
       "3   9045019                      교도소 이야기구먼 ..솔직히 재미는 없다..평점 조정      0\n",
       "4   6483659  사이몬페그의 익살스런 연기가 돋보였던 영화!스파이더맨에서 늙어보이기만 했던 커스틴 ...      1"
      ]
     },
     "execution_count": 1,
     "metadata": {},
     "output_type": "execute_result"
    }
   ],
   "source": [
    "import pandas as pd\n",
    "import urllib.request\n",
    "%matplotlib inline\n",
    "import matplotlib.pyplot as plt\n",
    "import re\n",
    "from konlpy.tag import Okt\n",
    "from tensorflow import keras\n",
    "from tensorflow.keras.preprocessing.text import Tokenizer\n",
    "import numpy as np\n",
    "from tensorflow.keras.preprocessing.sequence import pad_sequences\n",
    "from collections import Counter\n",
    "import os\n",
    "import gensim\n",
    "from gensim.models.keyedvectors import Word2VecKeyedVectors\n",
    "from tensorflow.keras.initializers import Constant\n",
    "from gensim.models import KeyedVectors\n",
    "from konlpy.tag import Mecab\n",
    "\n",
    "# 데이터를 읽어봅시다. \n",
    "train_data = pd.read_table('~/aiffel/sentiment_classification/data/ratings_train.txt')\n",
    "test_data = pd.read_table('~/aiffel/sentiment_classification/data/ratings_test.txt')\n",
    "\n",
    "train_data.head()"
   ]
  },
  {
   "cell_type": "markdown",
   "id": "north-edwards",
   "metadata": {},
   "source": [
    "- 0번이 부정적인 리뷰, 1번이 긍정적인 리뷰로 분류함을 알 수 있다."
   ]
  },
  {
   "cell_type": "markdown",
   "id": "tested-fireplace",
   "metadata": {},
   "source": [
    "## Step 2. 데이터로더 구성"
   ]
  },
  {
   "cell_type": "markdown",
   "id": "substantial-temple",
   "metadata": {},
   "source": [
    "- 데이터의 중복 제거\n",
    "- NaN 결측치 제거\n",
    "- 한국어 토크나이저로 토큰화\n",
    "- 불용어(Stopwords) 제거\n",
    "- 사전word_to_index 구성\n",
    "- 텍스트 스트링을 사전 인덱스 스트링으로 변환\n",
    "- X_train, y_train, X_test, y_test, word_to_index 리턴"
   ]
  },
  {
   "cell_type": "code",
   "execution_count": 2,
   "id": "rising-proceeding",
   "metadata": {},
   "outputs": [],
   "source": [
    "tokenizer = Mecab()\n",
    "stopwords = ['의','가','이','은','들','는','좀','잘','걍','과','도','를','으로','자','에','와','한','하다']\n",
    "\n",
    "def load_data(train_data, test_data, num_words=10000):\n",
    "    train_data.drop_duplicates(subset=['document'], inplace=True) # 중복값 제거\n",
    "    train_data = train_data.dropna(how = 'any')  # NA값 제거\n",
    "    \n",
    "    test_data.drop_duplicates(subset=['document'], inplace=True) # 중복값 제거\n",
    "    test_data = test_data.dropna(how = 'any')  # NA값 제거 \n",
    "    \n",
    "    X_train = []\n",
    "    for sentence in train_data['document']:\n",
    "        temp_X = tokenizer.morphs(sentence) # 토큰화\n",
    "        temp_X = [word for word in temp_X if not word in stopwords] # 불용어 제거\n",
    "        X_train.append(temp_X)\n",
    "\n",
    "    X_test = []\n",
    "    for sentence in test_data['document']:\n",
    "        temp_X = tokenizer.morphs(sentence) # 토큰화\n",
    "        temp_X = [word for word in temp_X if not word in stopwords] # 불용어 제거\n",
    "        X_test.append(temp_X)\n",
    "    \n",
    "    words = np.concatenate(X_train).tolist()\n",
    "    counter = Counter(words)\n",
    "    counter = counter.most_common(10000-4)\n",
    "    vocab = ['<PAD>', '<BOS>', '<UNK>', '<UNUSED>'] + [key for key, _ in counter]\n",
    "    word_to_index = {word:index for index, word in enumerate(vocab)} # 딕셔너리에 {텍스트:인덱스} 구조로 저장\n",
    "        \n",
    "    def wordlist_to_indexlist(wordlist):\n",
    "        return [word_to_index[word] if word in word_to_index else word_to_index['<PAD>'] for word in wordlist]\n",
    "        \n",
    "    X_train = list(map(wordlist_to_indexlist, X_train))\n",
    "    X_test = list(map(wordlist_to_indexlist, X_test))\n",
    "        \n",
    "    return X_train, np.array(list(train_data['label'])), X_test, np.array(list(test_data['label'])), word_to_index"
   ]
  },
  {
   "cell_type": "code",
   "execution_count": 3,
   "id": "operational-adelaide",
   "metadata": {},
   "outputs": [],
   "source": [
    "X_train, y_train, X_test, y_test, word_to_index = load_data(train_data, test_data)"
   ]
  },
  {
   "cell_type": "code",
   "execution_count": 4,
   "id": "behind-start",
   "metadata": {},
   "outputs": [
    {
     "name": "stdout",
     "output_type": "stream",
     "text": [
      "훈련 샘플 개수: 146182, 테스트 개수: 49157\n"
     ]
    }
   ],
   "source": [
    "print(\"훈련 샘플 개수: {}, 테스트 개수: {}\".format(len(X_train), len(X_test)))"
   ]
  },
  {
   "cell_type": "code",
   "execution_count": 5,
   "id": "peripheral-maker",
   "metadata": {},
   "outputs": [],
   "source": [
    "# {텍스트: 인덱스}에서 {인덱스:텍스트}로 변경\n",
    "\n",
    "index_to_word = {index:word for word, index in word_to_index.items()}"
   ]
  },
  {
   "cell_type": "code",
   "execution_count": 6,
   "id": "informative-combine",
   "metadata": {},
   "outputs": [],
   "source": [
    "# 문장 1개를 활용할 딕셔너리와 함께 주면, 단어 인덱스 리스트 벡터로 변환해 주는 함수입니다. \n",
    "# 단, 모든 문장은 <BOS>로 시작하는 것으로 합니다. \n",
    "def get_encoded_sentence(sentence, word_to_index):\n",
    "    return [word_to_index['<BOS>']]+[word_to_index[word] if word in word_to_index else word_to_index['<UNK>'] for word in sentence.split()]\n",
    "\n",
    "# 여러 개의 문장 리스트를 한꺼번에 단어 인덱스 리스트 벡터로 encode해 주는 함수입니다. \n",
    "def get_encoded_sentences(sentences, word_to_index):\n",
    "    return [get_encoded_sentence(sentence, word_to_index) for sentence in sentences]\n",
    "\n",
    "# 숫자 벡터로 encode된 문장을 원래대로 decode하는 함수입니다. \n",
    "def get_decoded_sentence(encoded_sentence, index_to_word):\n",
    "    return ' '.join(index_to_word[index] if index in index_to_word else '<UNK>' for index in encoded_sentence[1:])  #[1:]를 통해 <BOS>를 제외\n",
    "\n",
    "# 여러 개의 숫자 벡터로 encode된 문장을 한꺼번에 원래대로 decode하는 함수입니다. \n",
    "def get_decoded_sentences(encoded_sentences, index_to_word):\n",
    "    return [get_decoded_sentence(encoded_sentence, index_to_word) for encoded_sentence in encoded_sentences]"
   ]
  },
  {
   "cell_type": "markdown",
   "id": "great-angola",
   "metadata": {},
   "source": [
    "## Step 3. 모델구성을 위한 데이터 분석 및 가공"
   ]
  },
  {
   "cell_type": "code",
   "execution_count": 7,
   "id": "color-insight",
   "metadata": {
    "scrolled": true
   },
   "outputs": [
    {
     "name": "stdout",
     "output_type": "stream",
     "text": [
      "[32, 74, 919, 4, 4, 39, 228, 20, 33, 748]\n",
      "라벨:  0\n",
      "1번째 리뷰 문장 길이:  10\n",
      "2번째 리뷰 문장 길이:  17\n"
     ]
    }
   ],
   "source": [
    "print(X_train[0])  # 1번째 리뷰데이터\n",
    "print('라벨: ', y_train[0])  # 1번째 리뷰데이터의 라벨\n",
    "print('1번째 리뷰 문장 길이: ', len(X_train[0]))\n",
    "print('2번째 리뷰 문장 길이: ', len(X_train[1]))"
   ]
  },
  {
   "cell_type": "code",
   "execution_count": 8,
   "id": "variable-overall",
   "metadata": {
    "scrolled": true
   },
   "outputs": [
    {
     "name": "stdout",
     "output_type": "stream",
     "text": [
      "문장길이 평균 :  15.96940191154864\n",
      "문장길이 최대 :  116\n",
      "문장길이 표준편차 :  12.843571191092\n",
      "pad_sequences maxlen :  41\n",
      "전체 문장의 0.9342988343341575%가 maxlen 설정값 이내에 포함됩니다. \n"
     ]
    }
   ],
   "source": [
    "total_data_text = list(X_train) + list(X_test)\n",
    "\n",
    "# 텍스트데이터 문장길이의 리스트를 생성한 후\n",
    "num_tokens = [len(tokens) for tokens in total_data_text]\n",
    "num_tokens = np.array(num_tokens)\n",
    "# 문장길이의 평균값, 최대값, 표준편차를 계산해 본다. \n",
    "print('문장길이 평균 : ', np.mean(num_tokens))\n",
    "print('문장길이 최대 : ', np.max(num_tokens))\n",
    "print('문장길이 표준편차 : ', np.std(num_tokens))\n",
    "\n",
    "# 예를들어, 최대 길이를 (평균 + 2*표준편차)로 지정 \n",
    "max_tokens = np.mean(num_tokens) + 2 * np.std(num_tokens)\n",
    "maxlen = int(max_tokens)\n",
    "print('pad_sequences maxlen : ', maxlen)\n",
    "print('전체 문장의 {}%가 maxlen 설정값 이내에 포함됩니다. '.format(np.sum(num_tokens < max_tokens) / len(num_tokens)))"
   ]
  },
  {
   "cell_type": "markdown",
   "id": "driven-knitting",
   "metadata": {},
   "source": [
    "- 처음에 maxlen의 값을 높였을 때 전체 문장이 maxlen 설정값 이내에 포함되는 값이 클 수록 좋은 것이라고 생각했다.\n",
    "- 다만 문장길이가 너무 긴 이상치를 가진 데이터를 제거하고 학습하는 것이 더 효율적이라고 판단하여 maxlen을 int(평균 + 2*표준편차)로 지정하였다."
   ]
  },
  {
   "cell_type": "code",
   "execution_count": 9,
   "id": "banned-hudson",
   "metadata": {
    "scrolled": true
   },
   "outputs": [
    {
     "name": "stdout",
     "output_type": "stream",
     "text": [
      "(146182, 41)\n",
      "(49157, 41)\n"
     ]
    }
   ],
   "source": [
    "X_train = keras.preprocessing.sequence.pad_sequences(X_train,\n",
    "                                                        value=word_to_index['<PAD>'],\n",
    "                                                        padding='pre',\n",
    "                                                        maxlen=maxlen)\n",
    "\n",
    "X_test = keras.preprocessing.sequence.pad_sequences(X_test,\n",
    "                                                       value=word_to_index['<PAD>'],\n",
    "                                                       padding='pre',\n",
    "                                                       maxlen=maxlen)\n",
    "\n",
    "print(X_train.shape)\n",
    "print(X_test.shape)"
   ]
  },
  {
   "cell_type": "code",
   "execution_count": 10,
   "id": "occupied-agreement",
   "metadata": {},
   "outputs": [
    {
     "data": {
      "text/plain": [
       "array([  0,   0,   0,   0,   0,   0,   0,   0,   0,   0,   0,   0,   0,\n",
       "         0,   0,   0,   0,   0,   0,   0,   0,   0,   0,   0,   0,   0,\n",
       "         0,   0,   0,   0,   0,  32,  74, 919,   4,   4,  39, 228,  20,\n",
       "        33, 748], dtype=int32)"
      ]
     },
     "execution_count": 10,
     "metadata": {},
     "output_type": "execute_result"
    }
   ],
   "source": [
    "X_train[0]"
   ]
  },
  {
   "cell_type": "markdown",
   "id": "powerful-isaac",
   "metadata": {},
   "source": [
    "## Step 4. 모델구성 및 validation set 구성"
   ]
  },
  {
   "cell_type": "code",
   "execution_count": 11,
   "id": "unnecessary-minister",
   "metadata": {},
   "outputs": [],
   "source": [
    "vocab_size = 10000    # 어휘 사전의 크기\n",
    "word_vector_dim = 41 # 워드 벡터의 차원수 (변경가능한 하이퍼파라미터)"
   ]
  },
  {
   "cell_type": "markdown",
   "id": "verified-receptor",
   "metadata": {},
   "source": [
    "### 1. GlobalMaxPooling1D"
   ]
  },
  {
   "cell_type": "code",
   "execution_count": 12,
   "id": "frozen-allowance",
   "metadata": {},
   "outputs": [
    {
     "name": "stdout",
     "output_type": "stream",
     "text": [
      "Model: \"sequential\"\n",
      "_________________________________________________________________\n",
      "Layer (type)                 Output Shape              Param #   \n",
      "=================================================================\n",
      "embedding (Embedding)        (None, None, 41)          410000    \n",
      "_________________________________________________________________\n",
      "global_max_pooling1d (Global (None, 41)                0         \n",
      "_________________________________________________________________\n",
      "dense (Dense)                (None, 8)                 336       \n",
      "_________________________________________________________________\n",
      "dense_1 (Dense)              (None, 1)                 9         \n",
      "=================================================================\n",
      "Total params: 410,345\n",
      "Trainable params: 410,345\n",
      "Non-trainable params: 0\n",
      "_________________________________________________________________\n"
     ]
    }
   ],
   "source": [
    "model1 = keras.Sequential()\n",
    "model1.add(keras.layers.Embedding(vocab_size, word_vector_dim, input_shape=(None,)))\n",
    "model1.add(keras.layers.GlobalMaxPooling1D())\n",
    "model1.add(keras.layers.Dense(8, activation='relu'))\n",
    "model1.add(keras.layers.Dense(1, activation='sigmoid'))  # 최종 출력은 긍정/부정을 나타내는 1dim 입니다.\n",
    "\n",
    "model1.summary()"
   ]
  },
  {
   "cell_type": "markdown",
   "id": "chronic-victim",
   "metadata": {},
   "source": [
    "### 2. LSTM"
   ]
  },
  {
   "cell_type": "code",
   "execution_count": 13,
   "id": "iraqi-resource",
   "metadata": {},
   "outputs": [
    {
     "name": "stdout",
     "output_type": "stream",
     "text": [
      "Model: \"LSTM\"\n",
      "_________________________________________________________________\n",
      "Layer (type)                 Output Shape              Param #   \n",
      "=================================================================\n",
      "embedding_1 (Embedding)      (None, None, 41)          410000    \n",
      "_________________________________________________________________\n",
      "lstm (LSTM)                  (None, 8)                 1600      \n",
      "_________________________________________________________________\n",
      "dense_2 (Dense)              (None, 8)                 72        \n",
      "_________________________________________________________________\n",
      "dense_3 (Dense)              (None, 1)                 9         \n",
      "=================================================================\n",
      "Total params: 411,681\n",
      "Trainable params: 411,681\n",
      "Non-trainable params: 0\n",
      "_________________________________________________________________\n"
     ]
    }
   ],
   "source": [
    "model2 = keras.Sequential(name='LSTM')\n",
    "model2.add(keras.layers.Embedding(vocab_size, word_vector_dim, input_shape=(None,)))\n",
    "model2.add(keras.layers.LSTM(8))\n",
    "model2.add(keras.layers.Dense(8, activation='relu'))\n",
    "model2.add(keras.layers.Dense(1, activation='sigmoid'))  # 최종 출력은 긍정/부정을 나타내는 1dim 입니다.\n",
    "\n",
    "model2.summary()"
   ]
  },
  {
   "cell_type": "markdown",
   "id": "subtle-seeker",
   "metadata": {},
   "source": [
    "### 3. Convolution Neural Network(1-D CNN) 모델"
   ]
  },
  {
   "cell_type": "code",
   "execution_count": 14,
   "id": "alternative-seventh",
   "metadata": {},
   "outputs": [
    {
     "name": "stdout",
     "output_type": "stream",
     "text": [
      "Model: \"CNN\"\n",
      "_________________________________________________________________\n",
      "Layer (type)                 Output Shape              Param #   \n",
      "=================================================================\n",
      "embedding_2 (Embedding)      (None, None, 41)          410000    \n",
      "_________________________________________________________________\n",
      "conv1d (Conv1D)              (None, None, 16)          4608      \n",
      "_________________________________________________________________\n",
      "max_pooling1d (MaxPooling1D) (None, None, 16)          0         \n",
      "_________________________________________________________________\n",
      "conv1d_1 (Conv1D)            (None, None, 16)          1808      \n",
      "_________________________________________________________________\n",
      "global_max_pooling1d_1 (Glob (None, 16)                0         \n",
      "_________________________________________________________________\n",
      "dense_4 (Dense)              (None, 8)                 136       \n",
      "_________________________________________________________________\n",
      "dense_5 (Dense)              (None, 1)                 9         \n",
      "=================================================================\n",
      "Total params: 416,561\n",
      "Trainable params: 416,561\n",
      "Non-trainable params: 0\n",
      "_________________________________________________________________\n"
     ]
    }
   ],
   "source": [
    "model3 = keras.Sequential(name='CNN')\n",
    "model3.add(keras.layers.Embedding(vocab_size, word_vector_dim, input_shape=(None,)))\n",
    "model3.add(keras.layers.Conv1D(16, 7, activation='relu'))\n",
    "model3.add(keras.layers.MaxPooling1D(5))\n",
    "model3.add(keras.layers.Conv1D(16, 7, activation='relu'))\n",
    "model3.add(keras.layers.GlobalMaxPooling1D())\n",
    "model3.add(keras.layers.Dense(8, activation='relu'))\n",
    "model3.add(keras.layers.Dense(1, activation='sigmoid'))  # 최종 출력은 긍정/부정을 나타내는 1dim 입니다.\n",
    "\n",
    "model3.summary()"
   ]
  },
  {
   "cell_type": "code",
   "execution_count": 15,
   "id": "completed-economics",
   "metadata": {},
   "outputs": [],
   "source": [
    "# validation set 구성\n",
    "\n",
    "from sklearn.model_selection import train_test_split\n",
    "X_train, X_val, y_train, y_val = train_test_split(X_train, y_train,\n",
    "                                                          test_size=0.2,\n",
    "                                                          random_state=7)"
   ]
  },
  {
   "cell_type": "markdown",
   "id": "hybrid-arbor",
   "metadata": {},
   "source": [
    "## Step 5. 모델 훈련 개시"
   ]
  },
  {
   "cell_type": "code",
   "execution_count": 16,
   "id": "hidden-payroll",
   "metadata": {},
   "outputs": [],
   "source": [
    "from keras.callbacks import EarlyStopping\n",
    "\n",
    "early_stopping = EarlyStopping(monitor='val_loss', mode='min', verbose=1, patience=10)"
   ]
  },
  {
   "cell_type": "code",
   "execution_count": 17,
   "id": "finished-connectivity",
   "metadata": {},
   "outputs": [
    {
     "name": "stdout",
     "output_type": "stream",
     "text": [
      "Epoch 1/20\n",
      "229/229 [==============================] - 3s 9ms/step - loss: 0.6148 - accuracy: 0.7260 - val_loss: 0.3876 - val_accuracy: 0.8317\n",
      "Epoch 2/20\n",
      "229/229 [==============================] - 2s 7ms/step - loss: 0.3449 - accuracy: 0.8539 - val_loss: 0.3576 - val_accuracy: 0.8453\n",
      "Epoch 3/20\n",
      "229/229 [==============================] - 2s 7ms/step - loss: 0.2936 - accuracy: 0.8799 - val_loss: 0.3564 - val_accuracy: 0.8481\n",
      "Epoch 4/20\n",
      "229/229 [==============================] - 2s 7ms/step - loss: 0.2587 - accuracy: 0.8965 - val_loss: 0.3625 - val_accuracy: 0.8479\n",
      "Epoch 5/20\n",
      "229/229 [==============================] - 2s 7ms/step - loss: 0.2322 - accuracy: 0.9089 - val_loss: 0.3733 - val_accuracy: 0.8467\n",
      "Epoch 6/20\n",
      "229/229 [==============================] - 2s 7ms/step - loss: 0.2085 - accuracy: 0.9212 - val_loss: 0.3902 - val_accuracy: 0.8435\n",
      "Epoch 7/20\n",
      "229/229 [==============================] - 2s 7ms/step - loss: 0.1887 - accuracy: 0.9300 - val_loss: 0.4086 - val_accuracy: 0.8419\n",
      "Epoch 8/20\n",
      "229/229 [==============================] - 2s 7ms/step - loss: 0.1666 - accuracy: 0.9400 - val_loss: 0.4299 - val_accuracy: 0.8406\n",
      "Epoch 9/20\n",
      "229/229 [==============================] - 2s 7ms/step - loss: 0.1487 - accuracy: 0.9489 - val_loss: 0.4528 - val_accuracy: 0.8387\n",
      "Epoch 10/20\n",
      "229/229 [==============================] - 2s 7ms/step - loss: 0.1317 - accuracy: 0.9569 - val_loss: 0.4774 - val_accuracy: 0.8367\n",
      "Epoch 11/20\n",
      "229/229 [==============================] - 2s 7ms/step - loss: 0.1160 - accuracy: 0.9622 - val_loss: 0.5029 - val_accuracy: 0.8367\n",
      "Epoch 12/20\n",
      "229/229 [==============================] - 2s 7ms/step - loss: 0.1047 - accuracy: 0.9671 - val_loss: 0.5332 - val_accuracy: 0.8336\n",
      "Epoch 13/20\n",
      "229/229 [==============================] - 2s 7ms/step - loss: 0.0923 - accuracy: 0.9727 - val_loss: 0.5594 - val_accuracy: 0.8322\n",
      "Epoch 00013: early stopping\n"
     ]
    }
   ],
   "source": [
    "model1.compile(optimizer='adam',\n",
    "              loss='binary_crossentropy',\n",
    "              metrics=['accuracy'])\n",
    "              \n",
    "epochs=20  # 몇 epoch를 훈련하면 좋을지 결과를 보면서 바꾸어 봅시다. \n",
    "\n",
    "history1 = model1.fit(X_train,\n",
    "                    y_train,\n",
    "                    epochs=epochs,\n",
    "                    batch_size=512,\n",
    "                    validation_data=(X_val, y_val),\n",
    "                    callbacks=[early_stopping],\n",
    "                    verbose=1)"
   ]
  },
  {
   "cell_type": "code",
   "execution_count": 18,
   "id": "careful-roads",
   "metadata": {},
   "outputs": [
    {
     "name": "stdout",
     "output_type": "stream",
     "text": [
      "Epoch 1/20\n",
      "229/229 [==============================] - 6s 15ms/step - loss: 0.6106 - accuracy: 0.6683 - val_loss: 0.3937 - val_accuracy: 0.8383\n",
      "Epoch 2/20\n",
      "229/229 [==============================] - 3s 13ms/step - loss: 0.3517 - accuracy: 0.8592 - val_loss: 0.3603 - val_accuracy: 0.8456\n",
      "Epoch 3/20\n",
      "229/229 [==============================] - 3s 13ms/step - loss: 0.3052 - accuracy: 0.8751 - val_loss: 0.3532 - val_accuracy: 0.8473\n",
      "Epoch 4/20\n",
      "229/229 [==============================] - 3s 13ms/step - loss: 0.2892 - accuracy: 0.8815 - val_loss: 0.3599 - val_accuracy: 0.8447\n",
      "Epoch 5/20\n",
      "229/229 [==============================] - 3s 13ms/step - loss: 0.2736 - accuracy: 0.8886 - val_loss: 0.3596 - val_accuracy: 0.8456\n",
      "Epoch 6/20\n",
      "229/229 [==============================] - 3s 13ms/step - loss: 0.2603 - accuracy: 0.8937 - val_loss: 0.3671 - val_accuracy: 0.8476\n",
      "Epoch 7/20\n",
      "229/229 [==============================] - 3s 13ms/step - loss: 0.2470 - accuracy: 0.8986 - val_loss: 0.3774 - val_accuracy: 0.8466\n",
      "Epoch 8/20\n",
      "229/229 [==============================] - 3s 13ms/step - loss: 0.2327 - accuracy: 0.9053 - val_loss: 0.3852 - val_accuracy: 0.8470\n",
      "Epoch 9/20\n",
      "229/229 [==============================] - 3s 13ms/step - loss: 0.2196 - accuracy: 0.9119 - val_loss: 0.4101 - val_accuracy: 0.8466\n",
      "Epoch 10/20\n",
      "229/229 [==============================] - 3s 13ms/step - loss: 0.2054 - accuracy: 0.9188 - val_loss: 0.4176 - val_accuracy: 0.8456\n",
      "Epoch 11/20\n",
      "229/229 [==============================] - 3s 13ms/step - loss: 0.1962 - accuracy: 0.9218 - val_loss: 0.4248 - val_accuracy: 0.8454\n",
      "Epoch 12/20\n",
      "229/229 [==============================] - 3s 13ms/step - loss: 0.1852 - accuracy: 0.9280 - val_loss: 0.4290 - val_accuracy: 0.8415\n",
      "Epoch 13/20\n",
      "229/229 [==============================] - 3s 13ms/step - loss: 0.1821 - accuracy: 0.9287 - val_loss: 0.4490 - val_accuracy: 0.8414\n",
      "Epoch 00013: early stopping\n"
     ]
    }
   ],
   "source": [
    "model2.compile(optimizer='adam',\n",
    "              loss='binary_crossentropy',\n",
    "              metrics=['accuracy'])\n",
    "              \n",
    "epochs=20  # 몇 epoch를 훈련하면 좋을지 결과를 보면서 바꾸어 봅시다. \n",
    "\n",
    "history2 = model2.fit(X_train,\n",
    "                    y_train,\n",
    "                    epochs=epochs,\n",
    "                    batch_size=512,\n",
    "                    validation_data=(X_val, y_val),\n",
    "                    callbacks=[early_stopping],\n",
    "                    verbose=1)"
   ]
  },
  {
   "cell_type": "code",
   "execution_count": 19,
   "id": "designing-necessity",
   "metadata": {},
   "outputs": [
    {
     "name": "stdout",
     "output_type": "stream",
     "text": [
      "Epoch 1/20\n",
      "229/229 [==============================] - 9s 26ms/step - loss: 0.5829 - accuracy: 0.6954 - val_loss: 0.3634 - val_accuracy: 0.8418\n",
      "Epoch 2/20\n",
      "229/229 [==============================] - 2s 11ms/step - loss: 0.3187 - accuracy: 0.8655 - val_loss: 0.3524 - val_accuracy: 0.8499\n",
      "Epoch 3/20\n",
      "229/229 [==============================] - 2s 11ms/step - loss: 0.2717 - accuracy: 0.8893 - val_loss: 0.3478 - val_accuracy: 0.8527\n",
      "Epoch 4/20\n",
      "229/229 [==============================] - 2s 11ms/step - loss: 0.2295 - accuracy: 0.9116 - val_loss: 0.3604 - val_accuracy: 0.8530\n",
      "Epoch 5/20\n",
      "229/229 [==============================] - 2s 11ms/step - loss: 0.1814 - accuracy: 0.9352 - val_loss: 0.3979 - val_accuracy: 0.8467\n",
      "Epoch 6/20\n",
      "229/229 [==============================] - 2s 11ms/step - loss: 0.1351 - accuracy: 0.9534 - val_loss: 0.4512 - val_accuracy: 0.8414\n",
      "Epoch 7/20\n",
      "229/229 [==============================] - 2s 11ms/step - loss: 0.0981 - accuracy: 0.9688 - val_loss: 0.5153 - val_accuracy: 0.8325\n",
      "Epoch 8/20\n",
      "229/229 [==============================] - 2s 11ms/step - loss: 0.0746 - accuracy: 0.9780 - val_loss: 0.5824 - val_accuracy: 0.8320\n",
      "Epoch 9/20\n",
      "229/229 [==============================] - 2s 11ms/step - loss: 0.0540 - accuracy: 0.9851 - val_loss: 0.6409 - val_accuracy: 0.8289\n",
      "Epoch 10/20\n",
      "229/229 [==============================] - 2s 10ms/step - loss: 0.0422 - accuracy: 0.9876 - val_loss: 0.7224 - val_accuracy: 0.8272\n",
      "Epoch 11/20\n",
      "229/229 [==============================] - 2s 11ms/step - loss: 0.0325 - accuracy: 0.9911 - val_loss: 0.7734 - val_accuracy: 0.8252\n",
      "Epoch 12/20\n",
      "229/229 [==============================] - 2s 10ms/step - loss: 0.0278 - accuracy: 0.9920 - val_loss: 0.8340 - val_accuracy: 0.8234\n",
      "Epoch 13/20\n",
      "229/229 [==============================] - 2s 11ms/step - loss: 0.0226 - accuracy: 0.9936 - val_loss: 0.8880 - val_accuracy: 0.8183\n",
      "Epoch 00013: early stopping\n"
     ]
    }
   ],
   "source": [
    "model3.compile(optimizer='adam',\n",
    "              loss='binary_crossentropy',\n",
    "              metrics=['accuracy'])\n",
    "              \n",
    "epochs=20  # 몇 epoch를 훈련하면 좋을지 결과를 보면서 바꾸어 봅시다. \n",
    "\n",
    "history3 = model3.fit(X_train,\n",
    "                    y_train,\n",
    "                    epochs=epochs,\n",
    "                    batch_size=512,\n",
    "                    validation_data=(X_val, y_val),\n",
    "                    callbacks=[early_stopping],\n",
    "                    verbose=1)"
   ]
  },
  {
   "cell_type": "code",
   "execution_count": 20,
   "id": "romantic-input",
   "metadata": {},
   "outputs": [
    {
     "name": "stdout",
     "output_type": "stream",
     "text": [
      "1537/1537 - 2s - loss: 0.5528 - accuracy: 0.8301\n",
      "1537/1537 - 5s - loss: 0.4404 - accuracy: 0.8430\n",
      "1537/1537 - 4s - loss: 0.8612 - accuracy: 0.8237\n"
     ]
    }
   ],
   "source": [
    "results1 = model1.evaluate(X_test,  y_test, verbose=2)\n",
    "results2 = model2.evaluate(X_test,  y_test, verbose=2)\n",
    "results3 = model3.evaluate(X_test,  y_test, verbose=2)"
   ]
  },
  {
   "cell_type": "markdown",
   "id": "cross-warehouse",
   "metadata": {},
   "source": [
    "- 같은 조건 하에 두번째 모델이 가장 좋은성능을 보였다.\n",
    "- 다만 정확도가 높지 않아고 85%에 미치지 못하기에 개선이 필요하다.\n",
    "- EarlyStopping 여부도 함께 체크해봤을 시 효과적이기에 사용하기로 했다."
   ]
  },
  {
   "cell_type": "markdown",
   "id": "textile-auction",
   "metadata": {},
   "source": [
    "## Step 6.  Loss, Accuracy 그래프 시각화"
   ]
  },
  {
   "cell_type": "code",
   "execution_count": 21,
   "id": "seasonal-anniversary",
   "metadata": {},
   "outputs": [
    {
     "name": "stdout",
     "output_type": "stream",
     "text": [
      "dict_keys(['loss', 'accuracy', 'val_loss', 'val_accuracy'])\n"
     ]
    }
   ],
   "source": [
    "import matplotlib.pyplot as plt\n",
    "\n",
    "history1_dict = history1.history\n",
    "history2_dict = history2.history\n",
    "history3_dict = history3.history\n",
    "\n",
    "print(history1_dict.keys()) # epoch에 따른 그래프를 그려볼 수 있는 항목들"
   ]
  },
  {
   "cell_type": "code",
   "execution_count": 22,
   "id": "interim-incentive",
   "metadata": {},
   "outputs": [
    {
     "data": {
      "text/plain": [
       "<Figure size 432x288 with 0 Axes>"
      ]
     },
     "metadata": {},
     "output_type": "display_data"
    },
    {
     "data": {
      "image/png": "[encoded data removed]",
      "text/plain": [
       "<Figure size 1440x360 with 2 Axes>"
      ]
     },
     "metadata": {
      "needs_background": "light"
     },
     "output_type": "display_data"
    }
   ],
   "source": [
    "# GlobalMaxPooling1D 그래프\n",
    "\n",
    "acc = history1_dict['accuracy']\n",
    "val_acc = history1_dict['val_accuracy']\n",
    "loss = history1_dict['loss']\n",
    "val_loss = history1_dict['val_loss']\n",
    "\n",
    "epochs = range(1, len(acc) + 1)\n",
    "\n",
    "plt.clf() \n",
    "\n",
    "plt.figure(figsize=(20,5))\n",
    "\n",
    "plt.subplot(121)\n",
    "plt.plot(epochs, loss, 'b', label='Training loss')\n",
    "plt.plot(epochs, val_loss, 'r', label='Validation loss')\n",
    "plt.title('Training and validation loss')\n",
    "plt.xlabel('Epochs')\n",
    "plt.ylabel('Loss')\n",
    "plt.legend()\n",
    "\n",
    "plt.subplot(122)\n",
    "plt.plot(epochs, acc, 'b', label='Training acc')\n",
    "plt.plot(epochs, val_acc, 'r', label='Validation acc')\n",
    "plt.title('Training and validation accuracy')\n",
    "plt.xlabel('Epochs')\n",
    "plt.ylabel('Accuracy')\n",
    "plt.legend()\n",
    "\n",
    "plt.show()"
   ]
  },
  {
   "cell_type": "code",
   "execution_count": 23,
   "id": "cultural-outreach",
   "metadata": {
    "scrolled": false
   },
   "outputs": [
    {
     "data": {
      "image/png": "[encoded data removed]",
      "text/plain": [
       "<Figure size 1440x360 with 2 Axes>"
      ]
     },
     "metadata": {
      "needs_background": "light"
     },
     "output_type": "display_data"
    }
   ],
   "source": [
    "# LSTM 그래프\n",
    "\n",
    "acc = history2_dict['accuracy']\n",
    "val_acc = history2_dict['val_accuracy']\n",
    "loss = history2_dict['loss']\n",
    "val_loss = history2_dict['val_loss']\n",
    "\n",
    "epochs = range(1, len(acc) + 1)\n",
    "\n",
    "plt.figure(figsize=(20,5))\n",
    "\n",
    "plt.subplot(121)\n",
    "plt.plot(epochs, loss, 'b', label='Training loss')\n",
    "plt.plot(epochs, val_loss, 'r', label='Validation loss')\n",
    "plt.title('Training and validation loss')\n",
    "plt.xlabel('Epochs')\n",
    "plt.ylabel('Loss')\n",
    "plt.legend()\n",
    "\n",
    "plt.subplot(122)\n",
    "plt.plot(epochs, acc, 'b', label='Training acc')\n",
    "plt.plot(epochs, val_acc, 'r', label='Validation acc')\n",
    "plt.title('Training and validation accuracy')\n",
    "plt.xlabel('Epochs')\n",
    "plt.ylabel('Accuracy')\n",
    "plt.legend()\n",
    "\n",
    "plt.show()"
   ]
  },
  {
   "cell_type": "code",
   "execution_count": 24,
   "id": "received-overall",
   "metadata": {},
   "outputs": [
    {
     "data": {
      "image/png": "[encoded data removed]",
      "text/plain": [
       "<Figure size 1440x360 with 2 Axes>"
      ]
     },
     "metadata": {
      "needs_background": "light"
     },
     "output_type": "display_data"
    }
   ],
   "source": [
    "# CNN 그래프\n",
    "\n",
    "acc = history3_dict['accuracy']\n",
    "val_acc = history3_dict['val_accuracy']\n",
    "loss = history3_dict['loss']\n",
    "val_loss = history3_dict['val_loss']\n",
    "\n",
    "epochs = range(1, len(acc) + 1)\n",
    "\n",
    "plt.figure(figsize=(20,5))\n",
    "\n",
    "plt.subplot(121)\n",
    "plt.plot(epochs, loss, 'b', label='Training loss')\n",
    "plt.plot(epochs, val_loss, 'r', label='Validation loss')\n",
    "plt.title('Training and validation loss')\n",
    "plt.xlabel('Epochs')\n",
    "plt.ylabel('Loss')\n",
    "plt.legend()\n",
    "\n",
    "plt.subplot(122)\n",
    "plt.plot(epochs, acc, 'b', label='Training acc')\n",
    "plt.plot(epochs, val_acc, 'r', label='Validation acc')\n",
    "plt.title('Training and validation accuracy')\n",
    "plt.xlabel('Epochs')\n",
    "plt.ylabel('Accuracy')\n",
    "plt.legend()\n",
    "\n",
    "plt.show()"
   ]
  },
  {
   "cell_type": "markdown",
   "id": "referenced-greece",
   "metadata": {},
   "source": [
    "## Step 7. 학습된 Embedding 레이어 분석"
   ]
  },
  {
   "cell_type": "code",
   "execution_count": 25,
   "id": "grateful-plate",
   "metadata": {
    "scrolled": true
   },
   "outputs": [
    {
     "name": "stdout",
     "output_type": "stream",
     "text": [
      "(10000, 41)\n"
     ]
    }
   ],
   "source": [
    "embedding_layer = model2.layers[0]\n",
    "weights = embedding_layer.get_weights()[0]\n",
    "print(weights.shape)    # shape: (vocab_size, embedding_dim)"
   ]
  },
  {
   "cell_type": "code",
   "execution_count": 26,
   "id": "stopped-nevada",
   "metadata": {},
   "outputs": [],
   "source": [
    "# 학습한 Embedding 파라미터를 파일에 써서 저장합니다. \n",
    "word2vec_file_path = os.getenv('HOME')+'/aiffel/sentiment_classification/data/word2vec.txt'\n",
    "f = open(word2vec_file_path, 'w')\n",
    "f.write('{} {}\\n'.format(vocab_size-4, word_vector_dim))  # 몇개의 벡터를 얼마 사이즈로 기재할지 타이틀을 씁니다.\n",
    "\n",
    "# 단어 개수(에서 특수문자 4개는 제외하고)만큼의 워드 벡터를 파일에 기록합니다. \n",
    "vectors = model2.get_weights()[0]\n",
    "for i in range(4,vocab_size):\n",
    "    f.write('{} {}\\n'.format(index_to_word[i], ' '.join(map(str, list(vectors[i, :])))))\n",
    "f.close()"
   ]
  },
  {
   "cell_type": "code",
   "execution_count": 27,
   "id": "opposed-conclusion",
   "metadata": {},
   "outputs": [],
   "source": [
    "from gensim.models.keyedvectors import Word2VecKeyedVectors\n",
    "\n",
    "word_vectors = Word2VecKeyedVectors.load_word2vec_format(word2vec_file_path, binary=False)"
   ]
  },
  {
   "cell_type": "code",
   "execution_count": 28,
   "id": "floating-determination",
   "metadata": {},
   "outputs": [
    {
     "data": {
      "text/plain": [
       "array([-0.17540331,  0.01936781, -0.12122182, -0.15617381, -0.1557555 ,\n",
       "       -0.21536486,  0.05101965,  0.06970357,  0.09828575, -0.09997368,\n",
       "        0.03230062,  0.07167607,  0.02967365, -0.00439998, -0.11673175,\n",
       "        0.06670161,  0.06522508,  0.10033584,  0.07502158,  0.1033807 ,\n",
       "        0.01781492, -0.12074099, -0.12642819, -0.05338813,  0.18312377,\n",
       "        0.00634271, -0.0684524 ,  0.04824747,  0.19214259, -0.02891331,\n",
       "       -0.13643026, -0.02496109, -0.00747726,  0.06048567,  0.01455396,\n",
       "       -0.06023627, -0.2801669 , -0.04051591, -0.05354789,  0.02644337,\n",
       "       -0.15188417], dtype=float32)"
      ]
     },
     "execution_count": 28,
     "metadata": {},
     "output_type": "execute_result"
    }
   ],
   "source": [
    "vector = word_vectors['만족']\n",
    "vector"
   ]
  },
  {
   "cell_type": "code",
   "execution_count": 29,
   "id": "planned-patent",
   "metadata": {},
   "outputs": [
    {
     "data": {
      "text/plain": [
       "[('아픕니다', 0.9140501022338867),\n",
       " ('꽁', 0.9072076082229614),\n",
       " ('-_', 0.8978961110115051),\n",
       " ('친다', 0.8955138325691223),\n",
       " ('_-', 0.8885351419448853),\n",
       " ('로봇', 0.8842756152153015),\n",
       " ('..!!', 0.8842747211456299),\n",
       " ('울려', 0.8836635947227478),\n",
       " ('컴', 0.8816976547241211),\n",
       " ('극치', 0.8774944543838501)]"
      ]
     },
     "execution_count": 29,
     "metadata": {},
     "output_type": "execute_result"
    }
   ],
   "source": [
    "word_vectors.similar_by_word(\"놀람\")"
   ]
  },
  {
   "cell_type": "markdown",
   "id": "dense-magnet",
   "metadata": {},
   "source": [
    "## Step 8. 한국어 Word2Vec 임베딩 활용하여 성능개선"
   ]
  },
  {
   "cell_type": "markdown",
   "id": "purple-timing",
   "metadata": {},
   "source": [
    "한국어 Word2Vec은 다음 [경로](https://github.com/Kyubyong/wordvectors)에서 구할 수 있습니다.  "
   ]
  },
  {
   "cell_type": "code",
   "execution_count": 30,
   "id": "tight-kitchen",
   "metadata": {},
   "outputs": [],
   "source": [
    "from gensim.models import Word2Vec"
   ]
  },
  {
   "cell_type": "code",
   "execution_count": 31,
   "id": "three-mainstream",
   "metadata": {},
   "outputs": [],
   "source": [
    "word2vec_path = os.getenv('HOME')+'/aiffel/sentiment_classification/data/ko.bin'"
   ]
  },
  {
   "cell_type": "code",
   "execution_count": 32,
   "id": "white-trial",
   "metadata": {},
   "outputs": [],
   "source": [
    "word2vec = Word2Vec.load(word2vec_path)"
   ]
  },
  {
   "cell_type": "code",
   "execution_count": 33,
   "id": "private-watson",
   "metadata": {},
   "outputs": [
    {
     "name": "stderr",
     "output_type": "stream",
     "text": [
      "/opt/conda/lib/python3.7/site-packages/ipykernel_launcher.py:1: DeprecationWarning: Call to deprecated `__getitem__` (Method will be removed in 4.0.0, use self.wv.__getitem__() instead).\n",
      "  \"\"\"Entry point for launching an IPython kernel.\n"
     ]
    },
    {
     "data": {
      "text/plain": [
       "array([-1.3740246 , -1.7353463 ,  3.3915305 , -2.569253  , -1.4016607 ,\n",
       "        1.4556127 ,  0.9414557 ,  1.9207907 ,  0.16471806,  0.4838317 ,\n",
       "       -0.8547181 ,  2.0879807 ,  0.86741775,  0.87539405, -0.09962013,\n",
       "        0.22928311, -1.1858722 ,  0.00858838,  1.4999928 , -0.16196461,\n",
       "       -0.35184434, -0.92390764,  1.0849575 ,  0.3025011 ,  2.7021565 ,\n",
       "       -1.0263684 ,  0.32864776, -0.76589465, -2.510981  , -0.66225356,\n",
       "        2.8434615 ,  0.50130975, -1.021874  , -1.4366034 ,  1.1110784 ,\n",
       "        0.5812605 , -0.5830406 , -0.5785423 ,  1.3634988 ,  2.3074338 ,\n",
       "       -1.4314893 ,  0.45745876,  1.1073523 , -3.2135262 , -0.2898375 ,\n",
       "       -1.1622221 ,  1.2369208 , -0.7622987 , -0.37757635,  1.1376442 ,\n",
       "        0.01065568, -0.69105595,  1.5159112 ,  1.1534518 , -1.0119992 ,\n",
       "       -0.5757404 ,  1.1349088 , -1.1289831 ,  0.13004152,  2.0451715 ,\n",
       "       -0.23940353,  1.3604902 ,  0.72700524,  0.32545742,  1.0612459 ,\n",
       "        0.42252553,  1.1442151 ,  2.8774905 ,  2.4377263 , -1.340305  ,\n",
       "        0.12629706, -0.07772489, -0.59053177, -0.19007324,  0.1396541 ,\n",
       "       -1.8655105 ,  0.9401054 ,  0.5150856 ,  0.7795373 , -0.86505556,\n",
       "        0.11842118, -1.8303713 ,  1.337177  , -1.0102932 , -0.37180334,\n",
       "        0.00893255, -0.49141577, -1.05802   , -2.5987291 ,  0.9731856 ,\n",
       "        0.34080654, -2.5973568 ,  1.0046519 , -1.3914212 , -0.6504351 ,\n",
       "       -0.9010805 , -1.1341541 ,  0.75565654,  1.2941337 ,  0.0880572 ,\n",
       "       -1.0341461 , -0.1750075 , -0.01880708, -1.0835075 , -2.0333962 ,\n",
       "        1.1372623 ,  1.0626172 , -1.8369784 , -2.2662086 , -3.382057  ,\n",
       "        1.6751666 , -0.2988223 , -0.25563756, -1.5594274 ,  0.6313433 ,\n",
       "       -1.2667153 , -1.6857744 , -1.0949599 ,  0.7742313 , -0.6095523 ,\n",
       "        3.19503   ,  0.13200459,  1.7937473 , -2.8782516 ,  1.3821276 ,\n",
       "        2.2895143 ,  0.0741943 , -0.41046414,  1.438796  ,  0.19373988,\n",
       "        1.4294034 ,  1.5025262 ,  1.4849502 ,  1.5754777 ,  2.7793512 ,\n",
       "       -0.6885003 , -0.30154693, -1.708323  ,  1.1030879 , -2.2597387 ,\n",
       "        1.1909146 ,  2.4399316 ,  0.3990314 ,  0.904154  ,  0.5454401 ,\n",
       "       -1.3235748 , -0.64812386,  0.22390233,  0.9657619 , -0.47360668,\n",
       "       -0.10278235, -1.0679734 , -0.91414386,  0.92069   ,  0.3549338 ,\n",
       "        0.32858834,  0.84870636,  3.596926  , -1.6651102 ,  0.23658653,\n",
       "        1.0515738 ,  0.40531915, -0.773514  , -0.93460965, -0.3946274 ,\n",
       "       -1.5657727 ,  1.183652  ,  2.5277    ,  0.57700926,  1.7051374 ,\n",
       "       -1.8249958 , -2.0328498 ,  0.6617798 ,  0.85747904,  0.31782728,\n",
       "       -1.1660796 ,  0.32923874,  2.2055087 , -0.12782003,  2.0455444 ,\n",
       "       -0.1724252 ,  0.46001154,  1.559042  , -1.6152996 , -0.84242785,\n",
       "        0.7553168 ,  0.39734274,  0.07714175,  0.05610155,  0.32837135,\n",
       "        1.0220716 ,  1.3816743 ,  0.8049544 ,  0.28728685, -0.97610044,\n",
       "        0.8861181 , -0.01250968, -1.4845604 , -1.5236791 , -1.5451258 ],\n",
       "      dtype=float32)"
      ]
     },
     "execution_count": 33,
     "metadata": {},
     "output_type": "execute_result"
    }
   ],
   "source": [
    "vector = word2vec['사랑']\n",
    "vector"
   ]
  },
  {
   "cell_type": "code",
   "execution_count": 35,
   "id": "pending-diameter",
   "metadata": {},
   "outputs": [
    {
     "name": "stderr",
     "output_type": "stream",
     "text": [
      "/opt/conda/lib/python3.7/site-packages/ipykernel_launcher.py:8: DeprecationWarning: Call to deprecated `__contains__` (Method will be removed in 4.0.0, use self.wv.__contains__() instead).\n",
      "  \n",
      "/opt/conda/lib/python3.7/site-packages/ipykernel_launcher.py:9: DeprecationWarning: Call to deprecated `__getitem__` (Method will be removed in 4.0.0, use self.wv.__getitem__() instead).\n",
      "  if __name__ == '__main__':\n"
     ]
    }
   ],
   "source": [
    "vocab_size = 10000    # 어휘 사전의 크기입니다(10,000개의 단어)\n",
    "word_vector_dim = 200  # 워드 벡터의 차원수 (변경가능한 하이퍼파라미터)\n",
    "\n",
    "embedding_matrix = np.random.rand(vocab_size, word_vector_dim)\n",
    "\n",
    "# embedding_matrix에 Word2Vec 워드 벡터를 단어 하나씩마다 차례차례 카피한다.\n",
    "for i in range(4,vocab_size):\n",
    "    if index_to_word[i] in word2vec:\n",
    "        embedding_matrix[i] = word2vec[index_to_word[i]]"
   ]
  },
  {
   "cell_type": "code",
   "execution_count": 70,
   "id": "demanding-andorra",
   "metadata": {},
   "outputs": [
    {
     "name": "stdout",
     "output_type": "stream",
     "text": [
      "Model: \"sequential_22\"\n",
      "_________________________________________________________________\n",
      "Layer (type)                 Output Shape              Param #   \n",
      "=================================================================\n",
      "embedding_24 (Embedding)     (None, 41, 200)           2000000   \n",
      "_________________________________________________________________\n",
      "lstm_24 (LSTM)               (None, 512)               1460224   \n",
      "_________________________________________________________________\n",
      "dense_34 (Dense)             (None, 8)                 4104      \n",
      "_________________________________________________________________\n",
      "dense_35 (Dense)             (None, 1)                 9         \n",
      "=================================================================\n",
      "Total params: 3,464,337\n",
      "Trainable params: 3,464,337\n",
      "Non-trainable params: 0\n",
      "_________________________________________________________________\n"
     ]
    }
   ],
   "source": [
    "# 모델 구성\n",
    "model4 = keras.Sequential()\n",
    "model4.add(keras.layers.Embedding(vocab_size, \n",
    "                                 word_vector_dim, \n",
    "                                 embeddings_initializer=Constant(embedding_matrix),  # 카피한 임베딩을 여기서 활용\n",
    "                                 input_length=maxlen,\n",
    "                                 trainable=True))   # trainable을 True로 주면 Fine-tuning\n",
    "model4.add(keras.layers.LSTM(512))\n",
    "model4.add(keras.layers.Dense(8, activation='relu'))\n",
    "model4.add(keras.layers.Dense(1, activation='sigmoid'))  # 최종 출력은 긍정/부정을 나타내는 1dim 입니다.\n",
    "\n",
    "model4.summary()"
   ]
  },
  {
   "cell_type": "code",
   "execution_count": 71,
   "id": "affiliated-fever",
   "metadata": {},
   "outputs": [
    {
     "name": "stdout",
     "output_type": "stream",
     "text": [
      "Epoch 1/20\n",
      "229/229 [==============================] - 39s 162ms/step - loss: 0.5528 - accuracy: 0.7105 - val_loss: 0.3677 - val_accuracy: 0.8378\n",
      "Epoch 2/20\n",
      "229/229 [==============================] - 37s 161ms/step - loss: 0.3255 - accuracy: 0.8595 - val_loss: 0.3284 - val_accuracy: 0.8585\n",
      "Epoch 3/20\n",
      "229/229 [==============================] - 37s 162ms/step - loss: 0.2682 - accuracy: 0.8877 - val_loss: 0.3261 - val_accuracy: 0.8601\n",
      "Epoch 4/20\n",
      "229/229 [==============================] - 37s 162ms/step - loss: 0.2277 - accuracy: 0.9077 - val_loss: 0.3216 - val_accuracy: 0.8652\n",
      "Epoch 5/20\n",
      "229/229 [==============================] - 37s 162ms/step - loss: 0.1862 - accuracy: 0.9261 - val_loss: 0.3450 - val_accuracy: 0.8632\n",
      "Epoch 6/20\n",
      "229/229 [==============================] - 37s 163ms/step - loss: 0.1454 - accuracy: 0.9441 - val_loss: 0.3874 - val_accuracy: 0.8620\n",
      "Epoch 7/20\n",
      "229/229 [==============================] - 38s 164ms/step - loss: 0.1068 - accuracy: 0.9607 - val_loss: 0.4248 - val_accuracy: 0.8534\n",
      "Epoch 8/20\n",
      "229/229 [==============================] - 37s 162ms/step - loss: 0.0796 - accuracy: 0.9706 - val_loss: 0.5299 - val_accuracy: 0.8579\n",
      "Epoch 9/20\n",
      "229/229 [==============================] - 37s 162ms/step - loss: 0.0560 - accuracy: 0.9792 - val_loss: 0.6077 - val_accuracy: 0.8585\n",
      "Epoch 10/20\n",
      "229/229 [==============================] - 37s 162ms/step - loss: 0.0448 - accuracy: 0.9837 - val_loss: 0.6462 - val_accuracy: 0.8567\n",
      "Epoch 11/20\n",
      "229/229 [==============================] - 37s 163ms/step - loss: 0.0365 - accuracy: 0.9862 - val_loss: 0.7265 - val_accuracy: 0.8556\n",
      "Epoch 12/20\n",
      "229/229 [==============================] - 37s 161ms/step - loss: 0.0264 - accuracy: 0.9900 - val_loss: 0.7799 - val_accuracy: 0.8534\n",
      "Epoch 13/20\n",
      "229/229 [==============================] - 37s 163ms/step - loss: 0.0288 - accuracy: 0.9891 - val_loss: 0.7959 - val_accuracy: 0.8538\n",
      "Epoch 14/20\n",
      "229/229 [==============================] - 37s 163ms/step - loss: 0.0232 - accuracy: 0.9912 - val_loss: 0.8222 - val_accuracy: 0.8557\n",
      "Epoch 00014: early stopping\n"
     ]
    }
   ],
   "source": [
    "model4.compile(optimizer='adam',\n",
    "              loss='binary_crossentropy',\n",
    "              metrics=['accuracy'])\n",
    "              \n",
    "epochs=20  # 몇 epoch를 훈련하면 좋을지 결과를 보면서 바꾸어 봅시다. \n",
    "\n",
    "history4 = model4.fit(X_train,\n",
    "                    y_train,\n",
    "                    epochs=epochs,\n",
    "                    batch_size=512,\n",
    "                    validation_data=(X_val, y_val),\n",
    "                    callbacks=[early_stopping],\n",
    "                    verbose=1)"
   ]
  },
  {
   "cell_type": "code",
   "execution_count": 72,
   "id": "worthy-video",
   "metadata": {},
   "outputs": [
    {
     "name": "stdout",
     "output_type": "stream",
     "text": [
      "1537/1537 - 12s - loss: 0.8016 - accuracy: 0.8568\n"
     ]
    }
   ],
   "source": [
    "results4 = model4.evaluate(X_test,  y_test, verbose=2)"
   ]
  },
  {
   "cell_type": "code",
   "execution_count": 74,
   "id": "pediatric-integer",
   "metadata": {},
   "outputs": [
    {
     "data": {
      "text/plain": [
       "<Figure size 432x288 with 0 Axes>"
      ]
     },
     "metadata": {},
     "output_type": "display_data"
    },
    {
     "data": {
      "image/png": "[encoded data removed]",
      "text/plain": [
       "<Figure size 1440x360 with 2 Axes>"
      ]
     },
     "metadata": {
      "needs_background": "light"
     },
     "output_type": "display_data"
    }
   ],
   "source": [
    "# 한국어 Word2Vec 임베딩 활용한 모델 그래프\n",
    "\n",
    "history4_dict = history4.history\n",
    "\n",
    "acc = history4_dict['accuracy']\n",
    "val_acc = history4_dict['val_accuracy']\n",
    "loss = history4_dict['loss']\n",
    "val_loss = history4_dict['val_loss']\n",
    "\n",
    "epochs = range(1, len(acc) + 1)\n",
    "\n",
    "plt.clf()\n",
    "\n",
    "plt.figure(figsize=(20,5))\n",
    "\n",
    "plt.subplot(121)\n",
    "plt.plot(epochs, loss, 'b', label='Training loss')\n",
    "plt.plot(epochs, val_loss, 'r', label='Validation loss')\n",
    "plt.title('Training and validation loss')\n",
    "plt.xlabel('Epochs')\n",
    "plt.ylabel('Loss')\n",
    "plt.legend()\n",
    "\n",
    "plt.subplot(122)\n",
    "plt.plot(epochs, acc, 'b', label='Training acc')\n",
    "plt.plot(epochs, val_acc, 'r', label='Validation acc')\n",
    "plt.title('Training and validation accuracy')\n",
    "plt.xlabel('Epochs')\n",
    "plt.ylabel('Accuracy')\n",
    "plt.legend()\n",
    "\n",
    "plt.show()"
   ]
  },
  {
   "cell_type": "markdown",
   "id": "attached-lemon",
   "metadata": {},
   "source": [
    "---"
   ]
  },
  {
   "cell_type": "markdown",
   "id": "proof-amount",
   "metadata": {},
   "source": [
    "## 루브릭 관련 고려한 점\n",
    "\n",
    "**1. 다양한 방법으로 Text Classification 태스크를 성공적으로 구현하였다.**\n",
    "\n",
    "- 3가지 이상의 모델을 성공적으로 시도함\n",
    "    \n",
    "\n",
    "**2. gensim을 활용하여 자체학습된 혹은 사전학습된 임베딩 레이어를 분석하였다.**\n",
    "\n",
    "- gensim의 유사단어 찾기를 활용하여 자체학습한 임베딩과 사전학습 임베딩을 적절히 분석함\n",
    "\n",
    "**3. 한국어 Word2Vec을 활용하여 가시적인 성능향상을 달성했다.**\n",
    "\n",
    "- 네이버 영화리뷰 데이터 감성분석 정확도를 85% 이상 달성함"
   ]
  },
  {
   "cell_type": "markdown",
   "id": "polyphonic-sharing",
   "metadata": {},
   "source": [
    "## 회고\n",
    "\n",
    "1️⃣ 잘한 점:  \n",
    "- 포기하지 않고 계속 시도 했다.\n",
    "- 나눠져있던 그래프를 모아서 한눈에 볼 수 있게 시각화했다.\n",
    "\n",
    "2️⃣ 어려웠던 점:\n",
    "- ko.bin 불러오는데서 계속 에러가 났다.\n",
    "- 처음에는 언피클링 에러가 나서 해결하려고 검색해서 시키는 코드도 써보고 이것저것 시도해봤지만 실패했다.\n",
    "- 아지트에 올라와있는 버전 다운그레이드 관련 이슈가 생각나서 혹시나 하고 해봤으나 전혀 연관 없는 문제 같았다.\n",
    "- 언피클링이 해결되는가 싶어 새로 나온 에러코드를 보니 인코딩 에러라고 떴다.\n",
    "- 다양한 인코딩을 시도해봤으나 실패했다.\n",
    "- 남들했던 코드 보고 하는건데 안되는 게 너무 답답했고 다음에는 좀더 여유있게 시도해서 사람들에게 물어보면서 해야겠다.\n",
    "- 우선 어찌저찌 해결했으나 완벽한 해결은 아닌 듯하다.\n",
    "- embedding_matrix에 Word2Vec 워드 벡터 카피하는 단계에서 shape 관련 에러가 자꾸 발생해서 이것도 검색해서 맞춰서 해결했다.\n",
    "- 모델을 직접 짜려고하면 안맞는다고 에러가 발생한다.\n",
    "- 우선 잘돌아가는 모델들을 가져오고 어떤 식으로 만들어야하는 지 공부가 필요하다.\n",
    "\n",
    "3️⃣ 느낀 점:\n",
    "- 하다가 포기할 뻔 했는데 참고 어찌저찌 완성해서 제출한다.\n",
    "- 루브릭 조건 정도만 통과해야지 생각했는데 그것도 어려웠다.\n",
    "- 에러장벽을 만나기 전까지는 자연어처리 흥미롭다고 생각했는데, 작은 고난들이 찾아와서 좀 더 공부할 점이 많다는 걸 느꼈다.\n",
    "- CV 프로젝트와 다른 점이 결과가 바로 눈에 띄지 않아 성취감이 덜 드는 것 같아 마지막에 정확도와 로스값 그래프도 함께 넣어 봤다.\n",
    "- 정확도 이외에도 문제에 대해 분류를 잘 했는지에 대해 체감할 수 있는 시각화 방법을 고려해야 할 것 같다. \n",
    "\n",
    "4️⃣ 참고사이트:\n",
    "- https://wikidocs.net/50739\n",
    "- https://github.com/PEBpung/Aiffel/blob/master/Project/Exploration/E9.%20Naver%20sentiment%20movie%20corpus%20Project.ipynb"
   ]
  }
 ],
 "metadata": {
  "kernelspec": {
   "display_name": "Python 3",
   "language": "python",
   "name": "python3"
  },
  "language_info": {
   "codemirror_mode": {
    "name": "ipython",
    "version": 3
   },
   "file_extension": ".py",
   "mimetype": "text/x-python",
   "name": "python",
   "nbconvert_exporter": "python",
   "pygments_lexer": "ipython3",
   "version": "3.7.9"
  }
 },
 "nbformat": 4,
 "nbformat_minor": 5
}
