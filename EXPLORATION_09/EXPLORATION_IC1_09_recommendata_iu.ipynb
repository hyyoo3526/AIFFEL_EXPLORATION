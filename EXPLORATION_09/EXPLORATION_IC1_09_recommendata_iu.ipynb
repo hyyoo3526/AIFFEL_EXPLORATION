{
 "cells": [
  {
   "cell_type": "markdown",
   "id": "sized-links",
   "metadata": {},
   "source": [
    "## 9-9. 프로젝트 - Movielens 영화 추천 실습"
   ]
  },
  {
   "cell_type": "markdown",
   "id": "rubber-separate",
   "metadata": {},
   "source": [
    "---"
   ]
  },
  {
   "cell_type": "markdown",
   "id": "selected-danger",
   "metadata": {},
   "source": [
    "- 유저가 영화에 대해 평점을 매긴 데이터가 데이터 크기 별로 있습니다. `MovieLens 1M Dataset `사용을 권장합니다.\n",
    "- 별점 데이터는 대표적인 explicit 데이터입니다. 하지만 implicit 데이터로 간주하고 테스트해볼 수 있습니다.\n",
    "- 별점을 **시청횟수**로 해석해서 생각하겠습니다.\n",
    "- 또한 유저가 3점 미만으로 준 데이터는 선호하지 않는다고 가정하고 제외하겠습니다."
   ]
  },
  {
   "cell_type": "markdown",
   "id": "convenient-waterproof",
   "metadata": {},
   "source": [
    "### 1) 데이터 준비와 전처리"
   ]
  },
  {
   "cell_type": "markdown",
   "id": "steady-restaurant",
   "metadata": {},
   "source": [
    "- Movielens 데이터는 rating.dat 안에 이미 인덱싱까지 완료된 사용자-영화-평점 데이터가 깔끔하게 정리되어 있습니다."
   ]
  },
  {
   "cell_type": "code",
   "execution_count": 1,
   "id": "aerial-louisville",
   "metadata": {},
   "outputs": [],
   "source": [
    "import os\n",
    "import numpy as np\n",
    "import pandas as pd\n",
    "from scipy.sparse import csr_matrix\n",
    "from implicit.als import AlternatingLeastSquares"
   ]
  },
  {
   "cell_type": "code",
   "execution_count": 2,
   "id": "revolutionary-afternoon",
   "metadata": {},
   "outputs": [
    {
     "data": {
      "text/html": [
       "<div>\n",
       "<style scoped>\n",
       "    .dataframe tbody tr th:only-of-type {\n",
       "        vertical-align: middle;\n",
       "    }\n",
       "\n",
       "    .dataframe tbody tr th {\n",
       "        vertical-align: top;\n",
       "    }\n",
       "\n",
       "    .dataframe thead th {\n",
       "        text-align: right;\n",
       "    }\n",
       "</style>\n",
       "<table border=\"1\" class=\"dataframe\">\n",
       "  <thead>\n",
       "    <tr style=\"text-align: right;\">\n",
       "      <th></th>\n",
       "      <th>user_id</th>\n",
       "      <th>movie_id</th>\n",
       "      <th>rating</th>\n",
       "      <th>timestamp</th>\n",
       "    </tr>\n",
       "  </thead>\n",
       "  <tbody>\n",
       "    <tr>\n",
       "      <th>0</th>\n",
       "      <td>1</td>\n",
       "      <td>1193</td>\n",
       "      <td>5</td>\n",
       "      <td>978300760</td>\n",
       "    </tr>\n",
       "    <tr>\n",
       "      <th>1</th>\n",
       "      <td>1</td>\n",
       "      <td>661</td>\n",
       "      <td>3</td>\n",
       "      <td>978302109</td>\n",
       "    </tr>\n",
       "    <tr>\n",
       "      <th>2</th>\n",
       "      <td>1</td>\n",
       "      <td>914</td>\n",
       "      <td>3</td>\n",
       "      <td>978301968</td>\n",
       "    </tr>\n",
       "    <tr>\n",
       "      <th>3</th>\n",
       "      <td>1</td>\n",
       "      <td>3408</td>\n",
       "      <td>4</td>\n",
       "      <td>978300275</td>\n",
       "    </tr>\n",
       "    <tr>\n",
       "      <th>4</th>\n",
       "      <td>1</td>\n",
       "      <td>2355</td>\n",
       "      <td>5</td>\n",
       "      <td>978824291</td>\n",
       "    </tr>\n",
       "  </tbody>\n",
       "</table>\n",
       "</div>"
      ],
      "text/plain": [
       "   user_id  movie_id  rating  timestamp\n",
       "0        1      1193       5  978300760\n",
       "1        1       661       3  978302109\n",
       "2        1       914       3  978301968\n",
       "3        1      3408       4  978300275\n",
       "4        1      2355       5  978824291"
      ]
     },
     "execution_count": 2,
     "metadata": {},
     "output_type": "execute_result"
    }
   ],
   "source": [
    "rating_file_path=os.getenv('HOME') + '/aiffel/recommendata_iu/data/ml-1m/ratings.dat'\n",
    "ratings_cols = ['user_id', 'movie_id', 'rating', 'timestamp']\n",
    "ratings = pd.read_csv(rating_file_path, sep='::', names=ratings_cols, engine='python', encoding = \"ISO-8859-1\")\n",
    "orginal_data_size = len(ratings)\n",
    "ratings.head()"
   ]
  },
  {
   "cell_type": "code",
   "execution_count": 3,
   "id": "continental-baking",
   "metadata": {},
   "outputs": [
    {
     "name": "stdout",
     "output_type": "stream",
     "text": [
      "orginal_data_size: 1000209, filtered_data_size: 836478\n",
      "Ratio of Remaining Data is 83.63%\n"
     ]
    }
   ],
   "source": [
    "# 유저가 3점 미만으로 준 데이터는 선호하지 않는다고 가정하고 3점 이상만 남깁니다.\n",
    "ratings = ratings[ratings['rating']>=3]\n",
    "filtered_data_size = len(ratings)\n",
    "\n",
    "print(f'orginal_data_size: {orginal_data_size}, filtered_data_size: {filtered_data_size}')\n",
    "print(f'Ratio of Remaining Data is {filtered_data_size / orginal_data_size:.2%}')"
   ]
  },
  {
   "cell_type": "code",
   "execution_count": 4,
   "id": "prepared-bible",
   "metadata": {},
   "outputs": [
    {
     "data": {
      "text/html": [
       "<div>\n",
       "<style scoped>\n",
       "    .dataframe tbody tr th:only-of-type {\n",
       "        vertical-align: middle;\n",
       "    }\n",
       "\n",
       "    .dataframe tbody tr th {\n",
       "        vertical-align: top;\n",
       "    }\n",
       "\n",
       "    .dataframe thead th {\n",
       "        text-align: right;\n",
       "    }\n",
       "</style>\n",
       "<table border=\"1\" class=\"dataframe\">\n",
       "  <thead>\n",
       "    <tr style=\"text-align: right;\">\n",
       "      <th></th>\n",
       "      <th>user_id</th>\n",
       "      <th>movie_id</th>\n",
       "      <th>rating</th>\n",
       "    </tr>\n",
       "  </thead>\n",
       "  <tbody>\n",
       "    <tr>\n",
       "      <th>0</th>\n",
       "      <td>1</td>\n",
       "      <td>1193</td>\n",
       "      <td>5</td>\n",
       "    </tr>\n",
       "    <tr>\n",
       "      <th>1</th>\n",
       "      <td>1</td>\n",
       "      <td>661</td>\n",
       "      <td>3</td>\n",
       "    </tr>\n",
       "    <tr>\n",
       "      <th>2</th>\n",
       "      <td>1</td>\n",
       "      <td>914</td>\n",
       "      <td>3</td>\n",
       "    </tr>\n",
       "    <tr>\n",
       "      <th>3</th>\n",
       "      <td>1</td>\n",
       "      <td>3408</td>\n",
       "      <td>4</td>\n",
       "    </tr>\n",
       "    <tr>\n",
       "      <th>4</th>\n",
       "      <td>1</td>\n",
       "      <td>2355</td>\n",
       "      <td>5</td>\n",
       "    </tr>\n",
       "  </tbody>\n",
       "</table>\n",
       "</div>"
      ],
      "text/plain": [
       "   user_id  movie_id  rating\n",
       "0        1      1193       5\n",
       "1        1       661       3\n",
       "2        1       914       3\n",
       "3        1      3408       4\n",
       "4        1      2355       5"
      ]
     },
     "execution_count": 4,
     "metadata": {},
     "output_type": "execute_result"
    }
   ],
   "source": [
    "# 사용하는 컬럼만 남겨줍니다.\n",
    "using_cols = ['user_id', 'movie_id', 'rating'] # timestamp 항목은 불필요하여 제거\n",
    "ratings = ratings[using_cols]\n",
    "ratings.head()"
   ]
  },
  {
   "cell_type": "code",
   "execution_count": 5,
   "id": "digital-africa",
   "metadata": {},
   "outputs": [],
   "source": [
    "# rating 컬럼의 이름을 count로 바꿉니다.\n",
    "ratings.rename(columns={'rating':'count'}, inplace=True)"
   ]
  },
  {
   "cell_type": "code",
   "execution_count": 6,
   "id": "optimum-drill",
   "metadata": {},
   "outputs": [
    {
     "data": {
      "text/html": [
       "<div>\n",
       "<style scoped>\n",
       "    .dataframe tbody tr th:only-of-type {\n",
       "        vertical-align: middle;\n",
       "    }\n",
       "\n",
       "    .dataframe tbody tr th {\n",
       "        vertical-align: top;\n",
       "    }\n",
       "\n",
       "    .dataframe thead th {\n",
       "        text-align: right;\n",
       "    }\n",
       "</style>\n",
       "<table border=\"1\" class=\"dataframe\">\n",
       "  <thead>\n",
       "    <tr style=\"text-align: right;\">\n",
       "      <th></th>\n",
       "      <th>movie_id</th>\n",
       "      <th>title</th>\n",
       "      <th>genre</th>\n",
       "    </tr>\n",
       "  </thead>\n",
       "  <tbody>\n",
       "    <tr>\n",
       "      <th>0</th>\n",
       "      <td>1</td>\n",
       "      <td>Toy Story (1995)</td>\n",
       "      <td>Animation|Children's|Comedy</td>\n",
       "    </tr>\n",
       "    <tr>\n",
       "      <th>1</th>\n",
       "      <td>2</td>\n",
       "      <td>Jumanji (1995)</td>\n",
       "      <td>Adventure|Children's|Fantasy</td>\n",
       "    </tr>\n",
       "    <tr>\n",
       "      <th>2</th>\n",
       "      <td>3</td>\n",
       "      <td>Grumpier Old Men (1995)</td>\n",
       "      <td>Comedy|Romance</td>\n",
       "    </tr>\n",
       "    <tr>\n",
       "      <th>3</th>\n",
       "      <td>4</td>\n",
       "      <td>Waiting to Exhale (1995)</td>\n",
       "      <td>Comedy|Drama</td>\n",
       "    </tr>\n",
       "    <tr>\n",
       "      <th>4</th>\n",
       "      <td>5</td>\n",
       "      <td>Father of the Bride Part II (1995)</td>\n",
       "      <td>Comedy</td>\n",
       "    </tr>\n",
       "  </tbody>\n",
       "</table>\n",
       "</div>"
      ],
      "text/plain": [
       "   movie_id                               title                         genre\n",
       "0         1                    Toy Story (1995)   Animation|Children's|Comedy\n",
       "1         2                      Jumanji (1995)  Adventure|Children's|Fantasy\n",
       "2         3             Grumpier Old Men (1995)                Comedy|Romance\n",
       "3         4            Waiting to Exhale (1995)                  Comedy|Drama\n",
       "4         5  Father of the Bride Part II (1995)                        Comedy"
      ]
     },
     "execution_count": 6,
     "metadata": {},
     "output_type": "execute_result"
    }
   ],
   "source": [
    "# 영화 제목을 보기 위해 메타 데이터를 읽어옵니다.\n",
    "movie_file_path=os.getenv('HOME') + '/aiffel/recommendata_iu/data/ml-1m/movies.dat'\n",
    "cols = ['movie_id', 'title', 'genre'] \n",
    "movies = pd.read_csv(movie_file_path, sep='::', names=cols, engine='python', encoding='ISO-8859-1')\n",
    "movies.head()"
   ]
  },
  {
   "cell_type": "code",
   "execution_count": 7,
   "id": "interesting-dividend",
   "metadata": {},
   "outputs": [
    {
     "data": {
      "text/html": [
       "<div>\n",
       "<style scoped>\n",
       "    .dataframe tbody tr th:only-of-type {\n",
       "        vertical-align: middle;\n",
       "    }\n",
       "\n",
       "    .dataframe tbody tr th {\n",
       "        vertical-align: top;\n",
       "    }\n",
       "\n",
       "    .dataframe thead th {\n",
       "        text-align: right;\n",
       "    }\n",
       "</style>\n",
       "<table border=\"1\" class=\"dataframe\">\n",
       "  <thead>\n",
       "    <tr style=\"text-align: right;\">\n",
       "      <th></th>\n",
       "      <th>movie_id</th>\n",
       "      <th>title</th>\n",
       "    </tr>\n",
       "  </thead>\n",
       "  <tbody>\n",
       "    <tr>\n",
       "      <th>0</th>\n",
       "      <td>1</td>\n",
       "      <td>Toy Story (1995)</td>\n",
       "    </tr>\n",
       "    <tr>\n",
       "      <th>1</th>\n",
       "      <td>2</td>\n",
       "      <td>Jumanji (1995)</td>\n",
       "    </tr>\n",
       "    <tr>\n",
       "      <th>2</th>\n",
       "      <td>3</td>\n",
       "      <td>Grumpier Old Men (1995)</td>\n",
       "    </tr>\n",
       "    <tr>\n",
       "      <th>3</th>\n",
       "      <td>4</td>\n",
       "      <td>Waiting to Exhale (1995)</td>\n",
       "    </tr>\n",
       "    <tr>\n",
       "      <th>4</th>\n",
       "      <td>5</td>\n",
       "      <td>Father of the Bride Part II (1995)</td>\n",
       "    </tr>\n",
       "  </tbody>\n",
       "</table>\n",
       "</div>"
      ],
      "text/plain": [
       "   movie_id                               title\n",
       "0         1                    Toy Story (1995)\n",
       "1         2                      Jumanji (1995)\n",
       "2         3             Grumpier Old Men (1995)\n",
       "3         4            Waiting to Exhale (1995)\n",
       "4         5  Father of the Bride Part II (1995)"
      ]
     },
     "execution_count": 7,
     "metadata": {},
     "output_type": "execute_result"
    }
   ],
   "source": [
    "# 사용하는 컬럼만 남겨줍니다.\n",
    "using_cols = ['movie_id', 'title']  # genre 항목은 불필요하여 제거\n",
    "movies = movies[using_cols]\n",
    "movies.head()"
   ]
  },
  {
   "cell_type": "markdown",
   "id": "developmental-pharmaceutical",
   "metadata": {},
   "source": [
    "### 2) 분석해 봅시다."
   ]
  },
  {
   "cell_type": "code",
   "execution_count": 8,
   "id": "ahead-token",
   "metadata": {},
   "outputs": [
    {
     "data": {
      "text/html": [
       "<div>\n",
       "<style scoped>\n",
       "    .dataframe tbody tr th:only-of-type {\n",
       "        vertical-align: middle;\n",
       "    }\n",
       "\n",
       "    .dataframe tbody tr th {\n",
       "        vertical-align: top;\n",
       "    }\n",
       "\n",
       "    .dataframe thead th {\n",
       "        text-align: right;\n",
       "    }\n",
       "</style>\n",
       "<table border=\"1\" class=\"dataframe\">\n",
       "  <thead>\n",
       "    <tr style=\"text-align: right;\">\n",
       "      <th></th>\n",
       "      <th>user_id</th>\n",
       "      <th>movie_id</th>\n",
       "      <th>count</th>\n",
       "      <th>title</th>\n",
       "    </tr>\n",
       "  </thead>\n",
       "  <tbody>\n",
       "    <tr>\n",
       "      <th>0</th>\n",
       "      <td>1</td>\n",
       "      <td>1193</td>\n",
       "      <td>5</td>\n",
       "      <td>One Flew Over the Cuckoo's Nest (1975)</td>\n",
       "    </tr>\n",
       "    <tr>\n",
       "      <th>1</th>\n",
       "      <td>1</td>\n",
       "      <td>661</td>\n",
       "      <td>3</td>\n",
       "      <td>James and the Giant Peach (1996)</td>\n",
       "    </tr>\n",
       "    <tr>\n",
       "      <th>2</th>\n",
       "      <td>1</td>\n",
       "      <td>914</td>\n",
       "      <td>3</td>\n",
       "      <td>My Fair Lady (1964)</td>\n",
       "    </tr>\n",
       "    <tr>\n",
       "      <th>3</th>\n",
       "      <td>1</td>\n",
       "      <td>3408</td>\n",
       "      <td>4</td>\n",
       "      <td>Erin Brockovich (2000)</td>\n",
       "    </tr>\n",
       "    <tr>\n",
       "      <th>4</th>\n",
       "      <td>1</td>\n",
       "      <td>2355</td>\n",
       "      <td>5</td>\n",
       "      <td>Bug's Life, A (1998)</td>\n",
       "    </tr>\n",
       "  </tbody>\n",
       "</table>\n",
       "</div>"
      ],
      "text/plain": [
       "   user_id  movie_id  count                                   title\n",
       "0        1      1193      5  One Flew Over the Cuckoo's Nest (1975)\n",
       "1        1       661      3        James and the Giant Peach (1996)\n",
       "2        1       914      3                     My Fair Lady (1964)\n",
       "3        1      3408      4                  Erin Brockovich (2000)\n",
       "4        1      2355      5                    Bug's Life, A (1998)"
      ]
     },
     "execution_count": 8,
     "metadata": {},
     "output_type": "execute_result"
    }
   ],
   "source": [
    "# 분석을 위해 데이터를 병합합니다.\n",
    "df = movies.set_index(\"movie_id\") # movie_id를 인덱스로 지정합니다.\n",
    "ratings = ratings.join(df, on = \"movie_id\") # movie_id를 기준으로 데이터를 병합합니다.\n",
    "\n",
    "ratings.head()"
   ]
  },
  {
   "cell_type": "code",
   "execution_count": 9,
   "id": "filled-border",
   "metadata": {
    "scrolled": true
   },
   "outputs": [
    {
     "name": "stdout",
     "output_type": "stream",
     "text": [
      "ratings에 있는 유니크한 영화 개수: 3628\n"
     ]
    }
   ],
   "source": [
    "# ratings에 있는 유니크한 영화 수\n",
    "movie_unique = ratings['title'].nunique()\n",
    "print('ratings에 있는 유니크한 영화 개수: {}'.format(movie_unique))"
   ]
  },
  {
   "cell_type": "code",
   "execution_count": 10,
   "id": "enclosed-separation",
   "metadata": {},
   "outputs": [
    {
     "name": "stdout",
     "output_type": "stream",
     "text": [
      "ratings에 있는 유니크한 사용자 수: 6039\n"
     ]
    }
   ],
   "source": [
    "# 유저 수 확인\n",
    "user_unique = ratings['user_id'].nunique()\n",
    "print('ratings에 있는 유니크한 사용자 수: {}'.format(user_unique))"
   ]
  },
  {
   "cell_type": "code",
   "execution_count": 11,
   "id": "tamil-melissa",
   "metadata": {
    "scrolled": true
   },
   "outputs": [
    {
     "name": "stdout",
     "output_type": "stream",
     "text": [
      "가장 인기 있는 영화 30개(인기순):\n",
      " title\n",
      "American Beauty (1999)                                   3211\n",
      "Star Wars: Episode IV - A New Hope (1977)                2910\n",
      "Star Wars: Episode V - The Empire Strikes Back (1980)    2885\n",
      "Star Wars: Episode VI - Return of the Jedi (1983)        2716\n",
      "Saving Private Ryan (1998)                               2561\n",
      "Terminator 2: Judgment Day (1991)                        2509\n",
      "Silence of the Lambs, The (1991)                         2498\n",
      "Raiders of the Lost Ark (1981)                           2473\n",
      "Back to the Future (1985)                                2460\n",
      "Matrix, The (1999)                                       2434\n",
      "Jurassic Park (1993)                                     2413\n",
      "Sixth Sense, The (1999)                                  2385\n",
      "Fargo (1996)                                             2371\n",
      "Braveheart (1995)                                        2314\n",
      "Men in Black (1997)                                      2297\n",
      "Schindler's List (1993)                                  2257\n",
      "Princess Bride, The (1987)                               2252\n",
      "Shakespeare in Love (1998)                               2213\n",
      "L.A. Confidential (1997)                                 2210\n",
      "Shawshank Redemption, The (1994)                         2194\n",
      "Godfather, The (1972)                                    2167\n",
      "Groundhog Day (1993)                                     2121\n",
      "E.T. the Extra-Terrestrial (1982)                        2102\n",
      "Being John Malkovich (1999)                              2066\n",
      "Ghostbusters (1984)                                      2051\n",
      "Pulp Fiction (1994)                                      2030\n",
      "Forrest Gump (1994)                                      2022\n",
      "Terminator, The (1984)                                   2019\n",
      "Toy Story (1995)                                         2000\n",
      "Fugitive, The (1993)                                     1941\n",
      "Name: user_id, dtype: int64\n"
     ]
    }
   ],
   "source": [
    "# 가장 인기 있는 영화 30개\n",
    "popular_movies = ratings.groupby('title')['user_id'].count().sort_values(ascending=False).head(30)\n",
    "print('가장 인기 있는 영화 30개(인기순):\\n {}'.format(popular_movies))"
   ]
  },
  {
   "cell_type": "markdown",
   "id": "british-october",
   "metadata": {},
   "source": [
    "- 가장 인기 있는 영화가 아메리칸뷰티이다.\n",
    "- 영화가 나온 연도를 보면 데이터가 90년대 중심인 것을 알 수 있다."
   ]
  },
  {
   "cell_type": "markdown",
   "id": "explicit-veteran",
   "metadata": {},
   "source": [
    "### 3) 내가 선호하는 영화를 5가지 골라서 rating에 추가해 줍시다."
   ]
  },
  {
   "cell_type": "code",
   "execution_count": 12,
   "id": "spanish-glass",
   "metadata": {},
   "outputs": [],
   "source": [
    "# 인덱스와 영화명으로 서로 반환할 수 있는 딕셔너리를 생성합니다.\n",
    "idx_to_movie = {i:v for i,v in zip(movies['movie_id'], movies['title'])}\n",
    "movie_to_idx = {v:i for i,v in zip(movies['movie_id'], movies['title'])}"
   ]
  },
  {
   "cell_type": "code",
   "execution_count": 13,
   "id": "palestinian-facing",
   "metadata": {},
   "outputs": [],
   "source": [
    "# 영화 전체 목록을 확인해봅시다. (3952 전체 출력되기에 주석처리했습니다.)\n",
    "# for key, value in idx_to_movie.items():\n",
    "#     print(key, value)"
   ]
  },
  {
   "cell_type": "code",
   "execution_count": 14,
   "id": "cross-inclusion",
   "metadata": {},
   "outputs": [],
   "source": [
    "# 좋아하는 영화 5개를 입력합니다.\n",
    "my_favorite = ['Interview with the Vampire (1994)', 'Men in Black (1997)',  'Jumanji (1995)', 'Toy Story (1995)', 'Nightmare Before Christmas, The (1993)']"
   ]
  },
  {
   "cell_type": "code",
   "execution_count": 15,
   "id": "naval-envelope",
   "metadata": {},
   "outputs": [
    {
     "data": {
      "text/plain": [
       "[253, 1580, 2, 1, 551]"
      ]
     },
     "execution_count": 15,
     "metadata": {},
     "output_type": "execute_result"
    }
   ],
   "source": [
    "# 좋아하는 영화의 인덱스번호를  별도의 리스트에 넣어줍니다.\n",
    "my_idx = []\n",
    "for i in my_favorite:\n",
    "    my_idx.append(movie_to_idx[i])\n",
    "my_idx"
   ]
  },
  {
   "cell_type": "code",
   "execution_count": 16,
   "id": "fossil-helena",
   "metadata": {},
   "outputs": [
    {
     "data": {
      "text/html": [
       "<div>\n",
       "<style scoped>\n",
       "    .dataframe tbody tr th:only-of-type {\n",
       "        vertical-align: middle;\n",
       "    }\n",
       "\n",
       "    .dataframe tbody tr th {\n",
       "        vertical-align: top;\n",
       "    }\n",
       "\n",
       "    .dataframe thead th {\n",
       "        text-align: right;\n",
       "    }\n",
       "</style>\n",
       "<table border=\"1\" class=\"dataframe\">\n",
       "  <thead>\n",
       "    <tr style=\"text-align: right;\">\n",
       "      <th></th>\n",
       "      <th>user_id</th>\n",
       "      <th>movie_id</th>\n",
       "      <th>count</th>\n",
       "      <th>title</th>\n",
       "    </tr>\n",
       "  </thead>\n",
       "  <tbody>\n",
       "    <tr>\n",
       "      <th>1000203</th>\n",
       "      <td>6040</td>\n",
       "      <td>1090</td>\n",
       "      <td>3</td>\n",
       "      <td>Platoon (1986)</td>\n",
       "    </tr>\n",
       "    <tr>\n",
       "      <th>1000205</th>\n",
       "      <td>6040</td>\n",
       "      <td>1094</td>\n",
       "      <td>5</td>\n",
       "      <td>Crying Game, The (1992)</td>\n",
       "    </tr>\n",
       "    <tr>\n",
       "      <th>1000206</th>\n",
       "      <td>6040</td>\n",
       "      <td>562</td>\n",
       "      <td>5</td>\n",
       "      <td>Welcome to the Dollhouse (1995)</td>\n",
       "    </tr>\n",
       "    <tr>\n",
       "      <th>1000207</th>\n",
       "      <td>6040</td>\n",
       "      <td>1096</td>\n",
       "      <td>4</td>\n",
       "      <td>Sophie's Choice (1982)</td>\n",
       "    </tr>\n",
       "    <tr>\n",
       "      <th>1000208</th>\n",
       "      <td>6040</td>\n",
       "      <td>1097</td>\n",
       "      <td>4</td>\n",
       "      <td>E.T. the Extra-Terrestrial (1982)</td>\n",
       "    </tr>\n",
       "    <tr>\n",
       "      <th>0</th>\n",
       "      <td>6041</td>\n",
       "      <td>253</td>\n",
       "      <td>5</td>\n",
       "      <td>Interview with the Vampire (1994)</td>\n",
       "    </tr>\n",
       "    <tr>\n",
       "      <th>1</th>\n",
       "      <td>6041</td>\n",
       "      <td>1580</td>\n",
       "      <td>5</td>\n",
       "      <td>Men in Black (1997)</td>\n",
       "    </tr>\n",
       "    <tr>\n",
       "      <th>2</th>\n",
       "      <td>6041</td>\n",
       "      <td>2</td>\n",
       "      <td>5</td>\n",
       "      <td>Jumanji (1995)</td>\n",
       "    </tr>\n",
       "    <tr>\n",
       "      <th>3</th>\n",
       "      <td>6041</td>\n",
       "      <td>1</td>\n",
       "      <td>5</td>\n",
       "      <td>Toy Story (1995)</td>\n",
       "    </tr>\n",
       "    <tr>\n",
       "      <th>4</th>\n",
       "      <td>6041</td>\n",
       "      <td>551</td>\n",
       "      <td>5</td>\n",
       "      <td>Nightmare Before Christmas, The (1993)</td>\n",
       "    </tr>\n",
       "  </tbody>\n",
       "</table>\n",
       "</div>"
      ],
      "text/plain": [
       "        user_id  movie_id  count                                   title\n",
       "1000203    6040      1090      3                          Platoon (1986)\n",
       "1000205    6040      1094      5                 Crying Game, The (1992)\n",
       "1000206    6040       562      5         Welcome to the Dollhouse (1995)\n",
       "1000207    6040      1096      4                  Sophie's Choice (1982)\n",
       "1000208    6040      1097      4       E.T. the Extra-Terrestrial (1982)\n",
       "0          6041       253      5       Interview with the Vampire (1994)\n",
       "1          6041      1580      5                     Men in Black (1997)\n",
       "2          6041         2      5                          Jumanji (1995)\n",
       "3          6041         1      5                        Toy Story (1995)\n",
       "4          6041       551      5  Nightmare Before Christmas, The (1993)"
      ]
     },
     "execution_count": 16,
     "metadata": {},
     "output_type": "execute_result"
    }
   ],
   "source": [
    "# 선호 영화 정보를 모아서 DataFrame로 만듭니다. \n",
    "my_playlist = pd.DataFrame({'user_id': ['6041']*5,'movie_id':my_idx, 'title': my_favorite, 'count':[5]*5})\n",
    "\n",
    "# 유저 id가 포함되어 있는 지 확인하고 없으면 my_playlist 데이터를 추가합니다.\n",
    "if not ratings.isin({'user_id':['6041']})['user_id'].any():\n",
    "    ratings = ratings.append(my_playlist)\n",
    "\n",
    "ratings.tail(10)"
   ]
  },
  {
   "cell_type": "code",
   "execution_count": 17,
   "id": "compact-heating",
   "metadata": {},
   "outputs": [
    {
     "name": "stdout",
     "output_type": "stream",
     "text": [
      "user_id: 6040\n",
      "movie_id: 3628\n"
     ]
    }
   ],
   "source": [
    "num_user = ratings['user_id'].nunique()\n",
    "num_movie = ratings['movie_id'].nunique()\n",
    "print('user_id:', num_user)\n",
    "print('movie_id:', num_movie)"
   ]
  },
  {
   "cell_type": "markdown",
   "id": "protecting-moisture",
   "metadata": {},
   "source": [
    "### 4) CSR matrix를 직접 만들어 봅시다."
   ]
  },
  {
   "cell_type": "code",
   "execution_count": 18,
   "id": "scientific-irish",
   "metadata": {},
   "outputs": [],
   "source": [
    "# 고유한 유저, 아티스트를 찾아내는 코드\n",
    "user_unique = ratings['user_id'].unique()\n",
    "movie_unique = ratings['title'].unique()\n",
    "\n",
    "# 유저, 아티스트 indexing 하는 코드 idx는 index의 약자입니다.\n",
    "user_to_idx = {v:k for k,v in enumerate(user_unique)}\n",
    "movie_to_idx = {v:k for k,v in enumerate(movie_unique)}"
   ]
  },
  {
   "cell_type": "code",
   "execution_count": 19,
   "id": "veterinary-stevens",
   "metadata": {},
   "outputs": [
    {
     "name": "stdout",
     "output_type": "stream",
     "text": [
      "user_id column indexing OK!!\n",
      "movie column indexing OK!!\n"
     ]
    },
    {
     "data": {
      "text/html": [
       "<div>\n",
       "<style scoped>\n",
       "    .dataframe tbody tr th:only-of-type {\n",
       "        vertical-align: middle;\n",
       "    }\n",
       "\n",
       "    .dataframe tbody tr th {\n",
       "        vertical-align: top;\n",
       "    }\n",
       "\n",
       "    .dataframe thead th {\n",
       "        text-align: right;\n",
       "    }\n",
       "</style>\n",
       "<table border=\"1\" class=\"dataframe\">\n",
       "  <thead>\n",
       "    <tr style=\"text-align: right;\">\n",
       "      <th></th>\n",
       "      <th>user_id</th>\n",
       "      <th>movie_id</th>\n",
       "      <th>count</th>\n",
       "      <th>title</th>\n",
       "    </tr>\n",
       "  </thead>\n",
       "  <tbody>\n",
       "    <tr>\n",
       "      <th>0</th>\n",
       "      <td>0</td>\n",
       "      <td>1193</td>\n",
       "      <td>5</td>\n",
       "      <td>0</td>\n",
       "    </tr>\n",
       "    <tr>\n",
       "      <th>1</th>\n",
       "      <td>0</td>\n",
       "      <td>661</td>\n",
       "      <td>3</td>\n",
       "      <td>1</td>\n",
       "    </tr>\n",
       "    <tr>\n",
       "      <th>2</th>\n",
       "      <td>0</td>\n",
       "      <td>914</td>\n",
       "      <td>3</td>\n",
       "      <td>2</td>\n",
       "    </tr>\n",
       "    <tr>\n",
       "      <th>3</th>\n",
       "      <td>0</td>\n",
       "      <td>3408</td>\n",
       "      <td>4</td>\n",
       "      <td>3</td>\n",
       "    </tr>\n",
       "    <tr>\n",
       "      <th>4</th>\n",
       "      <td>0</td>\n",
       "      <td>2355</td>\n",
       "      <td>5</td>\n",
       "      <td>4</td>\n",
       "    </tr>\n",
       "    <tr>\n",
       "      <th>...</th>\n",
       "      <td>...</td>\n",
       "      <td>...</td>\n",
       "      <td>...</td>\n",
       "      <td>...</td>\n",
       "    </tr>\n",
       "    <tr>\n",
       "      <th>0</th>\n",
       "      <td>6039</td>\n",
       "      <td>253</td>\n",
       "      <td>5</td>\n",
       "      <td>427</td>\n",
       "    </tr>\n",
       "    <tr>\n",
       "      <th>1</th>\n",
       "      <td>6039</td>\n",
       "      <td>1580</td>\n",
       "      <td>5</td>\n",
       "      <td>175</td>\n",
       "    </tr>\n",
       "    <tr>\n",
       "      <th>2</th>\n",
       "      <td>6039</td>\n",
       "      <td>2</td>\n",
       "      <td>5</td>\n",
       "      <td>513</td>\n",
       "    </tr>\n",
       "    <tr>\n",
       "      <th>3</th>\n",
       "      <td>6039</td>\n",
       "      <td>1</td>\n",
       "      <td>5</td>\n",
       "      <td>40</td>\n",
       "    </tr>\n",
       "    <tr>\n",
       "      <th>4</th>\n",
       "      <td>6039</td>\n",
       "      <td>551</td>\n",
       "      <td>5</td>\n",
       "      <td>284</td>\n",
       "    </tr>\n",
       "  </tbody>\n",
       "</table>\n",
       "<p>836483 rows × 4 columns</p>\n",
       "</div>"
      ],
      "text/plain": [
       "    user_id  movie_id  count  title\n",
       "0         0      1193      5      0\n",
       "1         0       661      3      1\n",
       "2         0       914      3      2\n",
       "3         0      3408      4      3\n",
       "4         0      2355      5      4\n",
       "..      ...       ...    ...    ...\n",
       "0      6039       253      5    427\n",
       "1      6039      1580      5    175\n",
       "2      6039         2      5    513\n",
       "3      6039         1      5     40\n",
       "4      6039       551      5    284\n",
       "\n",
       "[836483 rows x 4 columns]"
      ]
     },
     "execution_count": 19,
     "metadata": {},
     "output_type": "execute_result"
    }
   ],
   "source": [
    "# indexing을 통해 데이터 컬럼 내 값을 바꾸는 코드\n",
    "# dictionary 자료형의 get 함수는 https://wikidocs.net/16 을 참고하세요.\n",
    "\n",
    "# user_to_idx.get을 통해 user_id 컬럼의 모든 값을 인덱싱한 Series를 구해 봅시다. \n",
    "# 혹시 정상적으로 인덱싱되지 않은 row가 있다면 인덱스가 NaN이 될 테니 dropna()로 제거합니다. \n",
    "temp_user_ratings = ratings['user_id'].map(user_to_idx.get).dropna()\n",
    "if len(temp_user_ratings) == len(ratings):   # 모든 row가 정상적으로 인덱싱되었다면\n",
    "    print('user_id column indexing OK!!')\n",
    "    ratings['user_id'] = temp_user_ratings   # data['user_id']을 인덱싱된 Series로 교체해 줍니다. \n",
    "else:\n",
    "    print('user_id column indexing Fail!!')\n",
    "\n",
    "# movie_to_idx을 통해 title 컬럼도 동일한 방식으로 인덱싱해 줍니다. \n",
    "temp_movie_ratings = ratings['title'].map(movie_to_idx.get).dropna()\n",
    "if len(temp_movie_ratings) == len(ratings):\n",
    "    print('movie column indexing OK!!')\n",
    "    ratings['title'] = temp_movie_ratings\n",
    "else:\n",
    "    print('movie column indexing Fail!!')\n",
    "\n",
    "ratings"
   ]
  },
  {
   "cell_type": "code",
   "execution_count": 20,
   "id": "critical-worcester",
   "metadata": {
    "scrolled": true
   },
   "outputs": [
    {
     "data": {
      "text/plain": [
       "<6040x3628 sparse matrix of type '<class 'numpy.longlong'>'\n",
       "\twith 836483 stored elements in Compressed Sparse Row format>"
      ]
     },
     "execution_count": 20,
     "metadata": {},
     "output_type": "execute_result"
    }
   ],
   "source": [
    "csr_data = csr_matrix((ratings['count'], (ratings.user_id, ratings.title)), shape= (num_user, num_movie))\n",
    "csr_data"
   ]
  },
  {
   "cell_type": "markdown",
   "id": "searching-heaven",
   "metadata": {},
   "source": [
    "### 5) als_model = AlternatingLeastSquares 모델을 직접 구성하여 훈련시켜 봅시다."
   ]
  },
  {
   "cell_type": "code",
   "execution_count": 21,
   "id": "vertical-mixer",
   "metadata": {},
   "outputs": [],
   "source": [
    "# implicit 라이브러리에서 권장하고 있는 부분입니다. 학습 내용과는 무관합니다.\n",
    "os.environ['OPENBLAS_NUM_THREADS']='1'\n",
    "os.environ['KMP_DUPLICATE_LIB_OK']='True'\n",
    "os.environ['MKL_NUM_THREADS']='1'"
   ]
  },
  {
   "cell_type": "code",
   "execution_count": 22,
   "id": "absolute-worthy",
   "metadata": {},
   "outputs": [],
   "source": [
    "# Implicit AlternatingLeastSquares 모델의 선언\n",
    "als_model = AlternatingLeastSquares(factors=100, regularization=0.01, use_gpu=False, iterations=15, dtype=np.float32)"
   ]
  },
  {
   "cell_type": "code",
   "execution_count": 23,
   "id": "authentic-induction",
   "metadata": {},
   "outputs": [
    {
     "data": {
      "text/plain": [
       "<3628x6040 sparse matrix of type '<class 'numpy.longlong'>'\n",
       "\twith 836483 stored elements in Compressed Sparse Column format>"
      ]
     },
     "execution_count": 23,
     "metadata": {},
     "output_type": "execute_result"
    }
   ],
   "source": [
    "# als 모델은 input으로 (item X user 꼴의 matrix를 받기 때문에 Transpose해줍니다.)\n",
    "csr_data_transpose = csr_data.T\n",
    "csr_data_transpose"
   ]
  },
  {
   "cell_type": "code",
   "execution_count": 24,
   "id": "bridal-liberia",
   "metadata": {},
   "outputs": [
    {
     "data": {
      "application/vnd.jupyter.widget-view+json": {
       "model_id": "f2b29829aa404a76988a665380390c84",
       "version_major": 2,
       "version_minor": 0
      },
      "text/plain": [
       "  0%|          | 0/15 [00:00<?, ?it/s]"
      ]
     },
     "metadata": {},
     "output_type": "display_data"
    }
   ],
   "source": [
    "# 모델 훈련\n",
    "als_model.fit(csr_data_transpose)"
   ]
  },
  {
   "cell_type": "markdown",
   "id": "tired-notion",
   "metadata": {},
   "source": [
    "### 6) 내가 선호하는 5가지 영화 중 하나와 그 외의 영화 하나를 골라 훈련된 모델이 예측한 나의 선호도를 파악해 보세요."
   ]
  },
  {
   "cell_type": "code",
   "execution_count": 25,
   "id": "fifty-conference",
   "metadata": {
    "scrolled": true
   },
   "outputs": [
    {
     "data": {
      "text/plain": [
       "0.33160028"
      ]
     },
     "execution_count": 25,
     "metadata": {},
     "output_type": "execute_result"
    }
   ],
   "source": [
    "my, Vampire = user_to_idx['6041'], movie_to_idx['Interview with the Vampire (1994)']\n",
    "my_vector, Vampire_vector = als_model.user_factors[my], als_model.item_factors[Vampire]\n",
    "\n",
    "np.dot(my_vector, Vampire_vector)"
   ]
  },
  {
   "cell_type": "markdown",
   "id": "outer-asthma",
   "metadata": {},
   "source": [
    "- 좋아하는 영화인데 내적한 값이 0.3이 나왔습니다.\n",
    "- 아마 넣은 데이터들도 적고 제가 좋아하는 영화로 넣은 영화들이 비슷하지 않아서 그런건가 싶습니다."
   ]
  },
  {
   "cell_type": "markdown",
   "id": "executive-berlin",
   "metadata": {},
   "source": [
    "### 7) 내가 좋아하는 영화와 비슷한 영화를 추천받아 봅시다."
   ]
  },
  {
   "cell_type": "code",
   "execution_count": 26,
   "id": "responsible-brain",
   "metadata": {},
   "outputs": [
    {
     "name": "stdout",
     "output_type": "stream",
     "text": [
      "['Interview with the Vampire (1994)', 'Men in Black (1997)', 'Jumanji (1995)', 'Toy Story (1995)', 'Nightmare Before Christmas, The (1993)']\n",
      "[253, 1580, 2, 1, 551]\n"
     ]
    }
   ],
   "source": [
    "# 내가 좋아하는 영화와 인덱스를 다시 확인해 봅시다.\n",
    "print(my_favorite)\n",
    "print(my_idx)"
   ]
  },
  {
   "cell_type": "code",
   "execution_count": 27,
   "id": "asian-innocent",
   "metadata": {},
   "outputs": [
    {
     "data": {
      "text/plain": [
       "[(551, 0.9999998),\n",
       " (572, 0.88532054),\n",
       " (37, 0.8770584),\n",
       " (46, 0.87480736),\n",
       " (8, 0.812341),\n",
       " (536, 0.7952853),\n",
       " (547, 0.77565265),\n",
       " (619, 0.772242),\n",
       " (528, 0.77171075),\n",
       " (609, 0.7259434)]"
      ]
     },
     "execution_count": 27,
     "metadata": {},
     "output_type": "execute_result"
    }
   ],
   "source": [
    "similar_movie = als_model.similar_items(551)\n",
    "similar_movie   # (movie idx, 유사도) Tuple"
   ]
  },
  {
   "cell_type": "code",
   "execution_count": 28,
   "id": "formal-lodge",
   "metadata": {
    "scrolled": true
   },
   "outputs": [
    {
     "data": {
      "text/plain": [
       "['Nightmare Before Christmas, The (1993)',\n",
       " 'Foreign Student (1994)',\n",
       " 'Across the Sea of Time (1995)',\n",
       " 'How to Make an American Quilt (1995)',\n",
       " 'Tom and Huck (1995)',\n",
       " 'Simple Twist of Fate, A (1994)',\n",
       " 'Surviving the Game (1994)',\n",
       " 'Ed (1996)',\n",
       " 'Scout, The (1994)',\n",
       " 'Homeward Bound II: Lost in San Francisco (1996)']"
      ]
     },
     "execution_count": 28,
     "metadata": {},
     "output_type": "execute_result"
    }
   ],
   "source": [
    "# 유사한 영화 제목을 확인해봅니다.\n",
    "[idx_to_movie[i[0]] for i in similar_movie]"
   ]
  },
  {
   "cell_type": "markdown",
   "id": "pressed-university",
   "metadata": {},
   "source": [
    "### 8) 내가 가장 좋아할 만한 영화들을 추천받아 봅시다."
   ]
  },
  {
   "cell_type": "code",
   "execution_count": 29,
   "id": "willing-exhibit",
   "metadata": {},
   "outputs": [
    {
     "data": {
      "text/plain": [
       "[(50, 0.40904164),\n",
       " (4, 0.38184404),\n",
       " (107, 0.37520093),\n",
       " (458, 0.31339315),\n",
       " (33, 0.3047784),\n",
       " (322, 0.28840637),\n",
       " (545, 0.26345068),\n",
       " (670, 0.2603111),\n",
       " (92, 0.25524694),\n",
       " (250, 0.2527291),\n",
       " (330, 0.24233805),\n",
       " (1, 0.21957284),\n",
       " (10, 0.21738993),\n",
       " (1090, 0.20508385),\n",
       " (596, 0.20132549),\n",
       " (32, 0.19963528),\n",
       " (119, 0.1980936),\n",
       " (678, 0.198044),\n",
       " (475, 0.19795477),\n",
       " (1130, 0.19521464)]"
      ]
     },
     "execution_count": 29,
     "metadata": {},
     "output_type": "execute_result"
    }
   ],
   "source": [
    "user = user_to_idx['6041']\n",
    "\n",
    "artist_recommended = als_model.recommend(user, csr_data, N=20, filter_already_liked_items=True)\n",
    "artist_recommended"
   ]
  },
  {
   "cell_type": "code",
   "execution_count": 30,
   "id": "heavy-experience",
   "metadata": {},
   "outputs": [
    {
     "data": {
      "text/plain": [
       "['Usual Suspects, The (1995)',\n",
       " 'Waiting to Exhale (1995)',\n",
       " 'Muppet Treasure Island (1996)',\n",
       " 'Geronimo: An American Legend (1993)',\n",
       " 'Wings of Courage (1995)',\n",
       " 'Swimming with Sharks (1995)',\n",
       " 'Harlem (1993)',\n",
       " 'World of Apu, The (Apur Sansar) (1959)',\n",
       " 'Mary Reilly (1996)',\n",
       " 'Heavyweights (1994)',\n",
       " 'Tales from the Hood (1995)',\n",
       " 'Toy Story (1995)',\n",
       " 'GoldenEye (1995)',\n",
       " 'Platoon (1986)',\n",
       " 'Pinocchio (1940)',\n",
       " 'Twelve Monkeys (1995)',\n",
       " 'Steal Big, Steal Little (1995)',\n",
       " 'Some Folks Call It a Sling Blade (1993)',\n",
       " 'In the Name of the Father (1993)',\n",
       " 'Howling, The (1980)']"
      ]
     },
     "execution_count": 30,
     "metadata": {},
     "output_type": "execute_result"
    }
   ],
   "source": [
    "[idx_to_movie[i[0]] for i in artist_recommended]"
   ]
  },
  {
   "cell_type": "markdown",
   "id": "rolled-rogers",
   "metadata": {},
   "source": [
    "- 추천 받은 영화 중 좋아하는 영화는 토이스토리입니다."
   ]
  },
  {
   "cell_type": "markdown",
   "id": "welsh-lithuania",
   "metadata": {},
   "source": [
    "---"
   ]
  },
  {
   "cell_type": "markdown",
   "id": "refined-richmond",
   "metadata": {},
   "source": [
    "## 루브릭 관련 고려한 점\n",
    "\n",
    "**1. CSR matrix가 정상적으로 만들어졌다.**\n",
    "\n",
    "- 사용자와 아이템 개수를 바탕으로 정확한 사이즈로 만들었다.\n",
    "\n",
    "**2. MF 모델이 정상적으로 훈련되어 그럴듯한 추천이 이루어졌다.**\n",
    "\n",
    "- 사용자와 아이템 벡터 내적수치가 의미있게 형성되었다.\n",
    "\n",
    "**3. 비슷한 영화 찾기와 유저에게 추천하기의 과정이 정상적으로 진행되었다.**\n",
    "\n",
    "- MF모델이 예측한 유저 선호도 및 아이템간 유사도, 기여도가 의미있게 측정되었다."
   ]
  },
  {
   "cell_type": "markdown",
   "id": "alien-sheffield",
   "metadata": {},
   "source": [
    "## 회고"
   ]
  },
  {
   "cell_type": "markdown",
   "id": "common-desperate",
   "metadata": {},
   "source": [
    "1️⃣ 잘한 점:\n",
    "- for 문으로 전체 영화데이터를 확인해봤다.\n",
    "- 인덱스로 나온 값들을 확인 할 수 있도록 영화제목으로 바꾸는 작업을 하였다.\n",
    "\n",
    "2️⃣ 어려웠던 점:\n",
    "- csr_matrix 작성에 오류가 계속 떴다. 처음엔 count 관련 에러였고 그다음은 인덱스 관련 밸류에러가 떴다.\n",
    "- 아지트에 관련된 질문을 확인하고 수정해서 해결했다.\n",
    "- 모델 관련해서 os.environ이 학습 내용과는 무관하다고 되어있었지만 없을 경우에는 경고 문구가 표시되었다.\n",
    "-  csr_matrix 개념을 이해하기 어려웠다. 추가적으로 학습할 필요가 있다.\n",
    "- 실제 추천 영화도 그렇고 벡터값이 낮게 나와서 적절하지 않은 것 같다.\n",
    "\n",
    "3️⃣ 느낀 점:\n",
    "- 이번 EXPLORATION는 약간 버거웠다.\n",
    "- 코드적으로 어렵다기보단 추천시스템에 대한 이해가 되지 않은 상태에서 진행을 하려고 하니 부족함을 많이 느꼈다.\n",
    "- 추천받은 영화도 잘 모르겠을 뿐더러 좋아하는 영화인지도 잘 모르겠다.\n",
    "- 벡터값이 우선 현저하게 낮은데 이부분을 보완하기 위해서는 내가 좋아하는 영화를 5개 이상으로 넣어야 하지 않을까 싶다.\n",
    "- 만족스럽게 작성해서 제출하지 못한 점을 반성하고, 이후 복습할 때 내가 이해하지 못하고 지나간 부분에 대해 함께 작성하면 좋을 것 같다.\n",
    "- 추가적으로 장르 칼럼을 사용하지 않아서 삭제해봤다. 다음번에는 영화 장르 칼럼을 살려서 유효하게 사용하면 좋을 것 같다."
   ]
  }
 ],
 "metadata": {
  "kernelspec": {
   "display_name": "Python 3",
   "language": "python",
   "name": "python3"
  },
  "language_info": {
   "codemirror_mode": {
    "name": "ipython",
    "version": 3
   },
   "file_extension": ".py",
   "mimetype": "text/x-python",
   "name": "python",
   "nbconvert_exporter": "python",
   "pygments_lexer": "ipython3",
   "version": "3.7.9"
  }
 },
 "nbformat": 4,
 "nbformat_minor": 5
}
